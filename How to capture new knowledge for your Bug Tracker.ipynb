{
 "cells": [
  {
   "cell_type": "markdown",
   "metadata": {},
   "source": [
    "# How to Capture New Knowledge for Your Bug Tracker"
   ]
  },
  {
   "cell_type": "markdown",
   "metadata": {},
   "source": [
    "Congratulations!\n",
    "The Bug Tracker you designed for your company is a hit!\n",
    "Now, how do we take the data we have and turn it into some meaningful metrics."
   ]
  },
  {
   "cell_type": "markdown",
   "metadata": {},
   "source": [
    "### Retreiving the Cloud SQL MySQL Database Host\n",
    "\n",
    "From the [GCP Console](https://console.cloud.google.com/) search bar at the top of the page, type in SQL. Click the SQL result to open the Cloud SQL console view.\n",
    "\n",
    "Observe the bugtracker-db Cloud SQL MySQL instance that has been created for you by the Cloud Academy lab environment.\n",
    "\n",
    "It can take 10 minutes from when you started the lab for the instance to reach the ready status.\n",
    "\n",
    "Copy the Public IP address and use it to overwrite the default host IP address in the code block in the following section."
   ]
  },
  {
   "cell_type": "markdown",
   "metadata": {},
   "source": [
    "### Populating the Database\n",
    "\n",
    "Before diving in, we'll need to populate the database with some mock data.\n",
    "Use the `data.sql` file along with the python code below to create and populate the database.\n",
    "We'll be creating 20 users and 1000 tickets.\n",
    "That should be enough data to work with."
   ]
  },
  {
   "cell_type": "code",
   "execution_count": 4,
   "metadata": {},
   "outputs": [
    {
     "name": "stdout",
     "output_type": "stream",
     "text": [
      "Requirement already satisfied: mysql-connector in /opt/conda/lib/python3.7/site-packages (2.2.9)\n",
      "populating database...\n",
      "data insert complete\n"
     ]
    }
   ],
   "source": [
    "# create database and table schema\n",
    "! pip install mysql-connector\n",
    "\n",
    "import mysql.connector\n",
    "\n",
    "# make sure the host matches your GCP instance along with the password created earlier.\n",
    "host = \"34.94.61.132\"\n",
    "db = mysql.connector.connect(\n",
    "  host=host,\n",
    "  user=\"root\",\n",
    "  passwd=\"superadmin123\"\n",
    ")\n",
    "\n",
    "cursor = db.cursor()\n",
    "\n",
    "# drop/create/insert database\n",
    "with open('./data_files/lab9/data.sql') as f:\n",
    "    commands = f.read().split(';')\n",
    "    f.close()\n",
    "    print('populating database...')\n",
    "    for command in commands:\n",
    "        try:\n",
    "            if command.strip() != '':\n",
    "                cursor.execute(command)\n",
    "        except:\n",
    "            print('[ERROR]:', command)\n",
    "    db.commit()\n",
    "    print('data insert complete')\n",
    "\n",
    "cursor.close()\n",
    "db.close()"
   ]
  },
  {
   "cell_type": "markdown",
   "metadata": {},
   "source": [
    "Let's run a small test query to make sure the data was populated correctly.\n",
    "The query below will grab a ticket id, ticket title, and the users email address that is assigned to the ticket.\n",
    "The `title` might not make any sense, but thats what test data is for!"
   ]
  },
  {
   "cell_type": "code",
   "execution_count": 53,
   "metadata": {},
   "outputs": [
    {
     "name": "stdout",
     "output_type": "stream",
     "text": [
      "(137, 'write lifeless starter of', 'adora.laden@example.org')\n",
      "(140, \"hysteric divide officers I's\", 'arte.elphey@example.org')\n",
      "(506, 'boning deflects wishful in', 'garland.dmitrievski@example.org')\n",
      "(948, \"vow's atom priest ah\", 'chas.willatts@example.org')\n",
      "(412, 'upturned divines rural hi', 'martin.lagne@example.org')\n"
     ]
    }
   ],
   "source": [
    "db = mysql.connector.connect(\n",
    "  host=host,\n",
    "  user=\"root\",\n",
    "  passwd=\"superadmin123\",\n",
    "  database=\"bug_tracker_aggregate\"\n",
    ")\n",
    "\n",
    "cursor = db.cursor()\n",
    "# cursor.execute('SELECT t.id, t.title, u.email FROM tickets t INNER JOIN users u ON t.assignee=u.id ORDER BY RAND() LIMIT 5')\n",
    "cursor.execute('SELECT t.id, t.title, u.email FROM tickets t INNER JOIN users u ON t.assignee=u.id ORDER BY RAND() LIMIT 5')\n",
    "print(*cursor.fetchall(), sep='\\n')\n",
    "\n",
    "cursor.close()\n",
    "db.close()"
   ]
  },
  {
   "cell_type": "markdown",
   "metadata": {},
   "source": [
    "Here's the CREATE query for the `users` and `tickets` tables in our database.\n",
    "\n",
    "```sql\n",
    "CREATE TABLE IF NOT EXISTS users (\n",
    "  id INT AUTO_INCREMENT PRIMARY KEY,\n",
    "  first_name VARCHAR(30),\n",
    "  last_name VARCHAR(30),\n",
    "  email VARCHAR(80) UNIQUE\n",
    ") ENGINE=InnoDB;\n",
    "\n",
    "CREATE TABLE IF NOT EXISTS tickets (\n",
    "  id INT AUTO_INCREMENT PRIMARY KEY,\n",
    "  title VARCHAR(128),\n",
    "  project VARCHAR(64) NOT NULL,\n",
    "  assignee INT,\n",
    "  description TEXT,\n",
    "  date_created DATETIME DEFAULT CURRENT_TIMESTAMP,\n",
    "  date_updated DATETIME DEFAULT CURRENT_TIMESTAMP,\n",
    "  date_completed DATETIME NULL DEFAULT NULL,\n",
    "  FOREIGN KEY fk_assignee_id(assignee) REFERENCES users(id)\n",
    ") ENGINE=InnoDB;\n",
    "```"
   ]
  },
  {
   "cell_type": "markdown",
   "metadata": {},
   "source": [
    "We have all this data, and we need some meaningful metrics.\n",
    "We need to ask ourselves: _what question are we trying to answer with this data?_\n",
    "Throughout this lab, we'll learn how to answer the following questions:\n",
    "\n",
    "- How many tickets are open/closed?\n",
    "- Who has the most tickets assigned?\n",
    "- What is the longest time taken to complete a task?\n",
    "- What is the average time to close a ticket?\n",
    "- How many tickets we're completed in less than 10 days?\n",
    "\n",
    "There are a few ways to answer these questions.\n",
    "One could query the database for individual data, and then compare and/or manipulate it using python.\n",
    "Thoughout this lab we'll be doing all of the computations within MySQL, and python will only be our conduit to execute our queries.\n",
    "To do this, we'll be using MySQL's [aggregate functions](https://en.wikipedia.org/wiki/Aggregate_function).\n",
    "These are common in every RDBMS, such as: `SUM()`, `COUNT()`, and `AVG()`, to name a few.\n",
    "We'll be using these to answer the questions asked earlier."
   ]
  },
  {
   "cell_type": "markdown",
   "metadata": {},
   "source": [
    "## Question 1: _How many tickets are open/closed?_"
   ]
  },
  {
   "cell_type": "markdown",
   "metadata": {},
   "source": [
    "Looking at the `users` table, the `date_created` column does not have a default value.\n",
    "This is used to determine if a ticket is closed or not.\n",
    "If the colum is `NULL` then the ticket is considered open and considered closed when any date value is populated.\n",
    "Since we only care if the column is populated, not the data inself, we can use the `COUNT` aggregate function.\n",
    "The `COUNT` function counts the number of rows that it matches.\n",
    "\n",
    "Let's craft a SQL query to count the number of open tickets.\n",
    "To begin we'll count all tickets using `COUNT(*)`.\n",
    "```sql\n",
    "SELECT COUNT(*) AS counted_tickets\n",
    "FROM tickets t\n",
    "```\n",
    "To narrow this down we'll use the `WHERE` clause to only find tickets with `date_completed` being populated, giving us the number of closed tickets.\n",
    "```sql\n",
    "SELECT COUNT(*) AS closed_tickets\n",
    "FROM tickets t\n",
    "WHERE t.date_completed IS NOT NULL\n",
    "```\n",
    "We'll do the opposite for open tickets using `WHERE t.date_completed IS NOT NULL`.\n",
    "Refer to the python code below for a full example."
   ]
  },
  {
   "cell_type": "code",
   "execution_count": 54,
   "metadata": {},
   "outputs": [
    {
     "name": "stdout",
     "output_type": "stream",
     "text": [
      "Tickets Open: 413\n",
      "Tickets Closed: 587\n"
     ]
    }
   ],
   "source": [
    "db = mysql.connector.connect(\n",
    "  host=host,\n",
    "  user=\"root\",\n",
    "  passwd=\"superadmin123\",\n",
    "  database=\"bug_tracker_aggregate\"\n",
    ")\n",
    "\n",
    "cursor = db.cursor(dictionary=True)\n",
    "\n",
    "# get number of tickets open\n",
    "cursor.execute('SELECT COUNT(*) AS tickets_open FROM tickets t WHERE t.date_completed IS NULL')\n",
    "tickets_open = cursor.fetchone()['tickets_open']\n",
    "\n",
    "# get number of tickets closed\n",
    "cursor.execute('SELECT COUNT(*) AS tickets_closed FROM tickets t WHERE t.date_completed IS NOT NULL')\n",
    "tickets_closed = cursor.fetchone()['tickets_closed']\n",
    "\n",
    "print('Tickets Open: {}\\nTickets Closed: {}'.format(tickets_open, tickets_closed))\n",
    "\n",
    "cursor.close()\n",
    "db.close()"
   ]
  },
  {
   "cell_type": "markdown",
   "metadata": {},
   "source": [
    "### Using a Single Query\n",
    "What if we wanted to combine the queries above into a single query to count the tickets in the database.\n",
    "There's nothing wrong with the code above, this is just another example of how to solve the same problem.\n",
    "The is not as straight forward as you might expect.\n",
    "One cannot simply combine the `SELECT` statements.\n",
    "\n",
    "For this to work correctly, we'll need to use some trickery using the `SUM` aggregate function, along with a `CASE` statement.\n",
    "A `CASE` statement is is the same as [select statement](https://en.wikipedia.org/wiki/Switch_statement) if your familar with other programming languages.\n",
    "The trick is to return either a 1 or a 0 when `date_completed` is `NULL`.\n",
    "This can be added into the `SELECT` statement as such:\n",
    "```sql\n",
    "SUM(CASE WHEN t.date_completed IS NULL THEN 1 ELSE 0 END) AS 'tickets_open',\n",
    "```\n",
    "\n",
    "To calcuate tickets_closed, swap the 1 and 0 for the same logic:\n",
    "```sql\n",
    "SELECT\n",
    "  SUM(CASE WHEN t.date_completed IS NULL THEN 1 ELSE 0 END) AS 'tickets_open',\n",
    "  SUM(CASE WHEN t.date_completed IS NULL THEN 0 ELSE 1 END) AS 'tickets_closed'\n",
    "FROM tickets t;\n",
    "```\n",
    "\n",
    "#### Exercise\n",
    "Using the SQL above, edit the python code to use the single query and print the results to the console."
   ]
  },
  {
   "cell_type": "code",
   "execution_count": 86,
   "metadata": {},
   "outputs": [
    {
     "name": "stdout",
     "output_type": "stream",
     "text": [
      "Tickets Open: 413\n",
      "Tickets Closed: 587\n"
     ]
    }
   ],
   "source": [
    "db = mysql.connector.connect(\n",
    "  host=host,\n",
    "  user=\"root\",\n",
    "  passwd=\"superadmin123\",\n",
    "  database=\"bug_tracker_aggregate\"\n",
    ")\n",
    "\n",
    "cursor = db.cursor(dictionary=True)\n",
    "\n",
    "# Enter the single line query SQL below using cursor.execute()\n",
    "\n",
    "result = cursor.fetchone()\n",
    "\n",
    "# get number of tickets open\n",
    "tickets_open = result['tickets_open']\n",
    "\n",
    "# get number of tickets closed\n",
    "tickets_closed = result['tickets_closed']\n",
    "\n",
    "print('Tickets Open: {}\\nTickets Closed: {}'.format(tickets_open, tickets_closed))\n",
    "\n",
    "cursor.close()\n",
    "db.close()"
   ]
  },
  {
   "cell_type": "markdown",
   "metadata": {},
   "source": [
    "## Question 2: _Who has the most tickets assigned?_"
   ]
  },
  {
   "cell_type": "markdown",
   "metadata": {},
   "source": [
    "Explain `SUM()`, joining, `GROUP BY`, `ORDER BY`, and `LIMIT`\n",
    "To go about answering this question, we'll again turn to the `COUNT` function.\n",
    "As we need to count the number of tickets for each `assignee`, we'll also want to view the assignee in question.\n",
    "Let's start by querying for the `assignee` and counting the `tickets.id` column.\n",
    "To make this work, we need to [`GROUP BY`](https://dev.mysql.com/doc/refman/8.0/en/group-by-modifiers.html) the `assignee`.\n",
    "```sql\n",
    "SELECT t.assignee, COUNT(t.id) AS ticket_count FROM tickets t GROUP BY t.assignee;\n",
    "```\n",
    "This results in displaying the `assignee` along with the number of tickets they are assigned to.\n",
    "The result set looks similar to the following.\n",
    "\n",
    "![ticket count results](./assets/lab9/ticket_count_1.png)\n",
    "\n",
    "There are a couple of things wrong here:\n",
    "\n",
    "1. The ticket count is out of order, and its hard to determine who has the most.\n",
    "2. We get _all_ the users and their tickets, but we only want the user with the most tickets.\n",
    "3. Showing the user.id doesn't give us much information about ***who*** has the most tickets.\n",
    "\n",
    "Let's take care of each issue, one at a time.\n",
    "\n",
    "First, to order the results, we'll use the `ORDER BY` statement.\n",
    "This requires one or more columns to determine the order.\n",
    "By default, it will order the results in ascending order, we can change that by added `DESC` for descending after the column name.\n",
    "Let's update the SQL query:\n",
    "\n",
    "```sql\n",
    "SELECT t.assignee, COUNT(t.id) AS ticket_count FROM tickets t GROUP BY t.assignee ORDER BY ticket_count DESC;\n",
    "```\n",
    "\n",
    "Second, we only want the top result, we can tell MySQL to only return the first result by using the `LIMIT` statement.\n",
    "This returns `n` number of rows as a result.\n",
    "Since we're in descending order, let's limit this to the first result.\n",
    "\n",
    "```sql\n",
    "SELECT t.assignee, COUNT(t.id) AS ticket_count\n",
    "FROM tickets t\n",
    "GROUP BY t.assignee\n",
    "ORDER BY ticket_count DESC\n",
    "LIMIT 1;\n",
    "```\n",
    "Finally, let's add a little more information about the user.\n",
    "We'll do a `JOIN` on the user table and include the user's name along with their email address.\n",
    "\n",
    "```sql\n",
    "SELECT\n",
    "    CONCAT(u.first_name, ' ', u.last_name) AS name,\n",
    "    u.email, \n",
    "    COUNT(t.id) AS ticket_count\n",
    "FROM tickets t\n",
    "INNER JOIN users u ON u.id=t.assignee \n",
    "GROUP BY t.assignee \n",
    "ORDER BY ticket_count DESC\n",
    "LIMIT 1;\n",
    "```\n",
    "The result will look similar to the following.\n",
    "\n",
    "![ticket count results](./assets/lab9/ticket_count_2.png)\n",
    "\n",
    "Below is a python script to execute the query and print the results."
   ]
  },
  {
   "cell_type": "code",
   "execution_count": 56,
   "metadata": {},
   "outputs": [
    {
     "name": "stdout",
     "output_type": "stream",
     "text": [
      "{'name': 'Haskell Cardenoso', 'email': 'haskell.cardenoso@example.org', 'ticket_count': 64}\n"
     ]
    }
   ],
   "source": [
    "db = mysql.connector.connect(\n",
    "  host=host,\n",
    "  user=\"root\",\n",
    "  passwd=\"superadmin123\",\n",
    "  database=\"bug_tracker_aggregate\"\n",
    ")\n",
    "\n",
    "cursor = db.cursor(dictionary=True)\n",
    "\n",
    "query = '''\n",
    "SELECT\n",
    "    CONCAT(u.first_name, ' ', u.last_name) AS name,\n",
    "    u.email, \n",
    "    COUNT(t.id) AS ticket_count\n",
    "FROM tickets t\n",
    "INNER JOIN users u ON u.id=t.assignee \n",
    "GROUP BY t.assignee \n",
    "ORDER BY ticket_count DESC\n",
    "LIMIT 1;\n",
    "'''\n",
    "\n",
    "# execute the query\n",
    "cursor.execute(query)\n",
    "\n",
    "print(*cursor.fetchall(), sep='\\n')\n",
    "cursor.close()\n",
    "db.close()"
   ]
  },
  {
   "cell_type": "markdown",
   "metadata": {},
   "source": [
    "### Exercise\n",
    "\n",
    "Update the SQL query to determine who has the _most closed tickets_ and who has the _most open tickets_."
   ]
  },
  {
   "cell_type": "markdown",
   "metadata": {},
   "source": [
    "## Question 3: _What is the longest time taken to complete a task?_"
   ]
  },
  {
   "cell_type": "markdown",
   "metadata": {},
   "source": [
    "Now we're going to start using data that we don't directly have in our database.\n",
    "We don't have a column called `days_to_complete` that we can query, but we can derive that using columns within our table.\n",
    "To determine how many days it takes to complete a ticket, we can use the [`DATEDIFF` (MySQL manual)](https://dev.mysql.com/doc/refman/8.0/en/date-and-time-functions.html#function_datediff) function on `tickets.date_created` and `tickets.date_completed`.\n",
    "While these columns are `TIMESTAMPS` we're only interested in how many _days_ it takes, and `DATEDIFF` returns the difference in days.\n",
    "\n",
    "This will use a lot of the techniques we've covered already.\n",
    "We'll need to make sure `date_completed` is `NOT NULL` as we're only focused on completed tickets; we'll need to order results in descending order; and limit the results to the first row.\n",
    "\n",
    "Before viewing the SQL code below, try to type out the SQL command yourself.\n",
    "\n",
    "```sql\n",
    "SELECT\n",
    "    DATEDIFF(t.date_completed, t.date_created) AS completed\n",
    "FROM tickets t\n",
    "WHERE t.date_completed IS NOT NULL\n",
    "ORDER BY completed DESC\n",
    "LIMIT 1;\n",
    "```\n",
    "\n",
    "You should get a result similar to the following:\n",
    "\n",
    "![logest task](./assets/lab9/long_task.png)\n",
    "\n",
    "The results can be acheived using the python code below."
   ]
  },
  {
   "cell_type": "code",
   "execution_count": 60,
   "metadata": {},
   "outputs": [
    {
     "name": "stdout",
     "output_type": "stream",
     "text": [
      "{'completed': 90}\n"
     ]
    }
   ],
   "source": [
    "db = mysql.connector.connect(\n",
    "  host=host,\n",
    "  user=\"root\",\n",
    "  passwd=\"superadmin123\",\n",
    "  database=\"bug_tracker_aggregate\"\n",
    ")\n",
    "\n",
    "cursor = db.cursor(dictionary=True)\n",
    "\n",
    "# query to answer the question\n",
    "query = '''\n",
    "SELECT\n",
    "    DATEDIFF(t.date_completed, t.date_created) AS completed\n",
    "FROM tickets t\n",
    "WHERE t.date_completed IS NOT NULL\n",
    "ORDER BY completed DESC\n",
    "LIMIT 1\n",
    "'''\n",
    "\n",
    "cursor.execute(query)\n",
    "\n",
    "print(*cursor.fetchall(), sep='\\n')\n",
    "cursor.close()\n",
    "db.close()"
   ]
  },
  {
   "cell_type": "markdown",
   "metadata": {},
   "source": [
    "## Question 4: _- What is the average time to close a ticket?_"
   ]
  },
  {
   "cell_type": "markdown",
   "metadata": {},
   "source": [
    "Answering this question builds of the previous question.\n",
    "However, this time, we'll use the `AVG` aggregate function.\n",
    "This takes the average of all the data of a specific column.\n",
    "Be sure to remove `LIMIT 1` from the SQL query!\n",
    "\n",
    "```sql\n",
    "SELECT\n",
    "    AVG( DATEDIFF(t.date_completed, t.date_created) ) AS avg_completion_time\n",
    "FROM tickets t \n",
    "WHERE t.date_completed IS NOT NULL;\n",
    "```\n",
    "\n",
    "The python code to run and display the query."
   ]
  },
  {
   "cell_type": "code",
   "execution_count": 61,
   "metadata": {},
   "outputs": [
    {
     "name": "stdout",
     "output_type": "stream",
     "text": [
      "{'avg_completion_time': Decimal('44.9029')}\n"
     ]
    }
   ],
   "source": [
    "db = mysql.connector.connect(\n",
    "  host=host,\n",
    "  user=\"root\",\n",
    "  passwd=\"superadmin123\",\n",
    "  database=\"bug_tracker_aggregate\"\n",
    ")\n",
    "\n",
    "cursor = db.cursor(dictionary=True)\n",
    "\n",
    "# query to answer the question\n",
    "query = '''\n",
    "SELECT\n",
    "    AVG( DATEDIFF(t.date_completed, t.date_created) ) AS avg_completion_time\n",
    "FROM tickets t \n",
    "WHERE t.date_completed IS NOT NULL\n",
    "'''\n",
    "\n",
    "cursor.execute(query)\n",
    "\n",
    "print(*cursor.fetchall(), sep='\\n')\n",
    "cursor.close()\n",
    "db.close()"
   ]
  },
  {
   "cell_type": "markdown",
   "metadata": {},
   "source": [
    "### Exercise\n",
    "\n",
    "Notice how the result has four decimal places?\n",
    "Use python to format the result to two decimal places.\n",
    "How could you achieve the same result using MySQL?"
   ]
  },
  {
   "cell_type": "markdown",
   "metadata": {},
   "source": [
    "## Question 5: _How many tickets we're completed in less than 10 days?_"
   ]
  },
  {
   "cell_type": "markdown",
   "metadata": {},
   "source": [
    "First we need to create a query that displays the `ticket.id` and time it took to complete.\n",
    "We'll build off the previous questions to construct this.\n",
    "\n",
    "```sql\n",
    "SELECT t.id, DATEDIFF(t.date_completed, t.date_created) AS completed FROM tickets t WHERE t.date_completed IS NOT NULL\n",
    "```\n",
    "\n",
    "![id and days completed](./assets/lab9/ten_days_1.png)\n",
    "\n",
    "Next, we'll need to limit the results to only `tickets.id` that took less than 10 days to complete.\n",
    "This is different than the `LIMIT` clause used earlier.\n",
    "For this we'll be using the [`HAVING` statement](https://en.wikipedia.org/wiki/Having_(SQL)).\n",
    "This is similar to the `WHERE` clause, but the key difference is that it relates to the `SELECT` results, instead of the data within the table.\n",
    "\n",
    "```sql\n",
    "SELECT t.id, DATEDIFF(t.date_completed, t.date_created) AS completed FROM tickets t WHERE t.date_completed IS NOT NULL\n",
    "HAVING completed <= 10\n",
    "```\n",
    "\n",
    "![id and days completed](./assets/lab9/ten_days_2.png)\n",
    "\n",
    "This is looking much better.\n",
    "We have the data we want, but we need a way to count it.\n",
    "Unfortunately, we cannot just wrap the whole `SELECT` statement in a `COUNT` function.\n",
    "Although, we can get pretty close to that.\n",
    "\n",
    "We'll be using a [subquery](https://en.wikipedia.org/wiki/SQL_syntax#Subqueries) to build an anonymous _table_ of the data we want and then use that data to query from.\n",
    "This is done by wrapping the query above in parentheses in the `FROM` clause:\n",
    "\n",
    "```sql\n",
    "SELECT * FROM (\n",
    "    SELECT t.id, DATEDIFF(t.date_completed, t.date_created) AS completed\n",
    "    FROM tickets t\n",
    "    WHERE t.date_completed IS NOT NULL\n",
    "    HAVING completed <= 10\n",
    ") AS quickly_completed_tickets;\n",
    "```\n",
    "\n",
    "![id and days completed in subquery](./assets/lab9/ten_days_3.png)\n",
    "\n",
    "Notice how the data returned is _exactly the same_ as the previous data set.\n",
    "Now we can use the `COUNT` function to get our final result, the number of tickets that were completed within 10 days.\n",
    "\n",
    "```sql\n",
    "SELECT COUNT(*) ticket_count \n",
    "FROM (\n",
    "    SELECT\n",
    "        t.id,\n",
    "        DATEDIFF(t.date_completed, t.date_created) AS completed\n",
    "    FROM tickets t \n",
    "    WHERE t.date_completed IS NOT NULL \n",
    "    HAVING completed <= 10\n",
    ") AS quickly_completed_tickets\n",
    "```\n",
    "\n",
    "![the final result](./assets/lab9/ten_days_4.png)\n",
    "\n",
    "And fianlly, the python code to run the query!"
   ]
  },
  {
   "cell_type": "code",
   "execution_count": 81,
   "metadata": {},
   "outputs": [
    {
     "name": "stdout",
     "output_type": "stream",
     "text": [
      "{'id': 16, 'title': \"harsh stiffened clarinet rum's\", 'project': 'CHARLIE', 'assignee': 18, 'description': 'Fusce congue, diam id ornare imperdiet, sapien urna pretium nisl, ut volutpat sapien arcu sed augue. Aliquam erat volutpat.', 'date_created': datetime.datetime(2020, 3, 14, 15, 55, 49), 'date_updated': datetime.datetime(2020, 6, 10, 15, 55, 49), 'date_completed': datetime.datetime(2020, 6, 10, 15, 55, 49)}\n",
      "{'id': 17, 'title': 'starved enamelling clearing tiny', 'project': 'INDIA', 'assignee': 16, 'description': 'Curabitur at ipsum ac tellus semper interdum. Mauris ullamcorper purus sit amet nulla. Quisque arcu libero, rutrum ac, lobortis vel, dapibus at, diam. Nam tristique tortor eu pede.', 'date_created': datetime.datetime(2020, 5, 7, 13, 5, 35), 'date_updated': datetime.datetime(2020, 6, 23, 13, 5, 35), 'date_completed': None}\n",
      "{'id': 24, 'title': 'mineral afloat smalls spawn', 'project': 'CHARLIE', 'assignee': 20, 'description': 'Maecenas rhoncus aliquam lacus. Morbi quis tortor id nulla ultrices aliquet. Maecenas leo odio, condimentum id, luctus nec, molestie sed, justo.', 'date_created': datetime.datetime(2020, 3, 31, 19, 6, 11), 'date_updated': datetime.datetime(2020, 6, 11, 19, 6, 11), 'date_completed': datetime.datetime(2020, 6, 11, 19, 6, 11)}\n",
      "{'id': 30, 'title': \"dais's prison's charisma mow\", 'project': 'PAPA', 'assignee': 17, 'description': 'Morbi quis tortor id nulla ultrices aliquet. Maecenas leo odio, condimentum id, luctus nec, molestie sed, justo.', 'date_created': datetime.datetime(2020, 5, 12, 9, 16, 27), 'date_updated': datetime.datetime(2020, 6, 26, 9, 16, 27), 'date_completed': datetime.datetime(2020, 6, 26, 9, 16, 27)}\n",
      "{'id': 48, 'title': 'inspires abate agents muff', 'project': 'KILO', 'assignee': 11, 'description': 'Nulla nisl.', 'date_created': datetime.datetime(2020, 5, 24, 23, 33, 37), 'date_updated': datetime.datetime(2020, 6, 30, 23, 33, 37), 'date_completed': None}\n",
      "{'id': 54, 'title': 'soils jar amuses faze', 'project': 'KILO', 'assignee': 20, 'description': 'Morbi non quam nec dui luctus rutrum. Nulla tellus. In sagittis dui vel nisl. Duis ac nibh.', 'date_created': datetime.datetime(2020, 6, 16, 1, 53), 'date_updated': datetime.datetime(2020, 6, 16, 1, 53), 'date_completed': None}\n",
      "{'id': 63, 'title': \"vote's tuner's suggest pa\", 'project': 'UNIFORM', 'assignee': 1, 'description': 'Morbi quis tortor id nulla ultrices aliquet. Maecenas leo odio, condimentum id, luctus nec, molestie sed, justo. Pellentesque viverra pede ac diam. Cras pellentesque volutpat dui.', 'date_created': datetime.datetime(2020, 5, 3, 2, 37, 40), 'date_updated': datetime.datetime(2020, 6, 22, 2, 37, 40), 'date_completed': datetime.datetime(2020, 6, 22, 2, 37, 40)}\n",
      "{'id': 69, 'title': 'gnawn inserted barrier cynic', 'project': 'VICTOR', 'assignee': 13, 'description': 'Nam nulla. Integer pede justo, lacinia eget, tincidunt eget, tempus vel, pede.', 'date_created': datetime.datetime(2020, 5, 24, 0, 5, 13), 'date_updated': datetime.datetime(2020, 6, 30, 0, 5, 13), 'date_completed': None}\n",
      "{'id': 72, 'title': 'violets folds inning by', 'project': 'KILO', 'assignee': 3, 'description': 'Morbi odio odio, elementum eu, interdum eu, tincidunt in, leo.', 'date_created': datetime.datetime(2020, 6, 18, 4, 31, 47), 'date_updated': datetime.datetime(2020, 6, 21, 4, 31, 47), 'date_completed': None}\n",
      "{'id': 93, 'title': \"stolid siphoned lake's loops\", 'project': 'ALFA', 'assignee': 6, 'description': 'Fusce congue, diam id ornare imperdiet, sapien urna pretium nisl, ut volutpat sapien arcu sed augue. Aliquam erat volutpat. In congue. Etiam justo.', 'date_created': datetime.datetime(2020, 7, 3, 20, 20, 31), 'date_updated': datetime.datetime(2020, 7, 9, 20, 20, 31), 'date_completed': None}\n",
      "{'id': 104, 'title': 'harmonic excessive armoring it', 'project': 'QUEBEC', 'assignee': 17, 'description': 'Nulla tempus. Vivamus in felis eu sapien cursus vestibulum. Proin eu mi.', 'date_created': datetime.datetime(2020, 5, 30, 13, 30, 17), 'date_updated': datetime.datetime(2020, 6, 12, 13, 30, 17), 'date_completed': datetime.datetime(2020, 6, 12, 13, 30, 17)}\n",
      "{'id': 113, 'title': 'spare liberating shrimp to', 'project': 'MIKE', 'assignee': 20, 'description': 'Fusce posuere felis sed lacus. Morbi sem mauris, laoreet ut, rhoncus aliquet, pulvinar sed, nisl. Nunc rhoncus dui vel sem.', 'date_created': datetime.datetime(2020, 5, 24, 11, 14, 37), 'date_updated': datetime.datetime(2020, 7, 5, 11, 14, 37), 'date_completed': datetime.datetime(2020, 7, 5, 11, 14, 37)}\n",
      "{'id': 117, 'title': \"extoll darkness's sections he\", 'project': 'KILO', 'assignee': 9, 'description': 'Duis bibendum. Morbi non quam nec dui luctus rutrum. Nulla tellus.', 'date_created': datetime.datetime(2020, 4, 10, 23, 51, 31), 'date_updated': datetime.datetime(2020, 7, 3, 23, 51, 31), 'date_completed': datetime.datetime(2020, 7, 3, 23, 51, 31)}\n",
      "{'id': 118, 'title': 'hares shy cart ah', 'project': 'TANGO', 'assignee': 16, 'description': 'Suspendisse potenti. Nullam porttitor lacus at turpis.', 'date_created': datetime.datetime(2020, 6, 2, 21, 6, 10), 'date_updated': datetime.datetime(2020, 7, 2, 21, 6, 10), 'date_completed': None}\n",
      "{'id': 120, 'title': \"tiff's pickling cliff's wad\", 'project': 'INDIA', 'assignee': 15, 'description': 'Nunc nisl.', 'date_created': datetime.datetime(2020, 4, 18, 16, 14, 13), 'date_updated': datetime.datetime(2020, 7, 5, 16, 14, 13), 'date_completed': datetime.datetime(2020, 7, 5, 16, 14, 13)}\n",
      "{'id': 135, 'title': 'proud coarsened kilos pus', 'project': 'GOLF', 'assignee': 1, 'description': 'Duis bibendum. Morbi non quam nec dui luctus rutrum. Nulla tellus. In sagittis dui vel nisl. Duis ac nibh.', 'date_created': datetime.datetime(2020, 4, 12, 11, 37, 59), 'date_updated': datetime.datetime(2020, 7, 9, 11, 37, 59), 'date_completed': None}\n",
      "{'id': 146, 'title': 'longish adult petition bulk', 'project': 'GOLF', 'assignee': 10, 'description': 'Morbi ut odio.', 'date_created': datetime.datetime(2020, 4, 14, 8, 38, 37), 'date_updated': datetime.datetime(2020, 6, 10, 8, 38, 37), 'date_completed': None}\n",
      "{'id': 158, 'title': \"ruffle's hoot norm coo's\", 'project': 'X-RAY', 'assignee': 15, 'description': 'Nullam sit amet turpis elementum ligula vehicula consequat. Morbi a ipsum.', 'date_created': datetime.datetime(2020, 6, 10, 22, 44, 31), 'date_updated': datetime.datetime(2020, 6, 30, 22, 44, 31), 'date_completed': datetime.datetime(2020, 6, 30, 22, 44, 31)}\n",
      "{'id': 174, 'title': 'clefs bystander columns ogle', 'project': 'ECHO', 'assignee': 3, 'description': 'Nulla ac enim.', 'date_created': datetime.datetime(2020, 6, 1, 1, 9, 52), 'date_updated': datetime.datetime(2020, 7, 8, 1, 9, 52), 'date_completed': datetime.datetime(2020, 7, 8, 1, 9, 52)}\n",
      "{'id': 177, 'title': \"blade's consults sixes W's\", 'project': 'ZULU', 'assignee': 4, 'description': 'Morbi odio odio, elementum eu, interdum eu, tincidunt in, leo. Maecenas pulvinar lobortis est. Phasellus sit amet erat.', 'date_created': datetime.datetime(2020, 6, 13, 5, 7, 11), 'date_updated': datetime.datetime(2020, 6, 26, 5, 7, 11), 'date_completed': datetime.datetime(2020, 6, 26, 5, 7, 11)}\n",
      "{'id': 182, 'title': 'workbook jam binds Es', 'project': 'YANKEE', 'assignee': 11, 'description': 'Curabitur in libero ut massa volutpat convallis. Morbi odio odio, elementum eu, interdum eu, tincidunt in, leo. Maecenas pulvinar lobortis est.', 'date_created': datetime.datetime(2020, 6, 13, 14, 48, 56), 'date_updated': datetime.datetime(2020, 6, 29, 14, 48, 56), 'date_completed': datetime.datetime(2020, 6, 29, 14, 48, 56)}\n",
      "{'id': 211, 'title': 'ferns sexism folder ova', 'project': 'TANGO', 'assignee': 11, 'description': 'Phasellus id sapien in sapien iaculis congue. Vivamus metus arcu, adipiscing molestie, hendrerit at, vulputate vitae, nisl. Aenean lectus. Pellentesque eget nunc.', 'date_created': datetime.datetime(2020, 6, 2, 10, 18, 40), 'date_updated': datetime.datetime(2020, 6, 29, 10, 18, 40), 'date_completed': None}\n",
      "{'id': 214, 'title': \"mitten sanctity's nabs nut\", 'project': 'YANKEE', 'assignee': 8, 'description': 'Nullam varius. Nulla facilisi.', 'date_created': datetime.datetime(2020, 6, 1, 19, 45, 49), 'date_updated': datetime.datetime(2020, 7, 4, 19, 45, 49), 'date_completed': None}\n",
      "{'id': 215, 'title': \"disciple schemer's furies bony\", 'project': 'ECHO', 'assignee': 5, 'description': 'Morbi a ipsum. Integer a nibh. In quis justo. Maecenas rhoncus aliquam lacus. Morbi quis tortor id nulla ultrices aliquet.', 'date_created': datetime.datetime(2020, 4, 22, 8, 47, 41), 'date_updated': datetime.datetime(2020, 6, 25, 8, 47, 41), 'date_completed': datetime.datetime(2020, 6, 25, 8, 47, 41)}\n",
      "{'id': 217, 'title': \"waste's sprucer globe's subs\", 'project': 'DELTA', 'assignee': 19, 'description': 'Maecenas ut massa quis augue luctus tincidunt.', 'date_created': datetime.datetime(2020, 6, 16, 15, 3, 37), 'date_updated': datetime.datetime(2020, 6, 19, 15, 3, 37), 'date_completed': datetime.datetime(2020, 6, 19, 15, 3, 37)}\n",
      "{'id': 225, 'title': 'dropped tip inert woken', 'project': 'UNIFORM', 'assignee': 1, 'description': 'Vestibulum ante ipsum primis in faucibus orci luctus et ultrices posuere cubilia Curae.Nulla dapibus dolor vel est. Donec odio justo, sollicitudin ut, suscipit a, feugiat et, eros.', 'date_created': datetime.datetime(2020, 5, 15, 23, 6, 40), 'date_updated': datetime.datetime(2020, 6, 16, 23, 6, 40), 'date_completed': datetime.datetime(2020, 6, 16, 23, 6, 40)}\n",
      "{'id': 246, 'title': \"harm's dormant gents hear\", 'project': 'HOTEL', 'assignee': 11, 'description': 'Sed ante.', 'date_created': datetime.datetime(2020, 3, 20, 22, 16, 19), 'date_updated': datetime.datetime(2020, 6, 14, 22, 16, 19), 'date_completed': datetime.datetime(2020, 6, 14, 22, 16, 19)}\n",
      "{'id': 253, 'title': 'updates droop abetting gel', 'project': 'LIMA', 'assignee': 2, 'description': 'Maecenas tincidunt lacus at velit. Vivamus vel nulla eget eros elementum pellentesque. Quisque porta volutpat erat. Quisque erat eros, viverra eget, congue eget, semper rutrum, nulla.', 'date_created': datetime.datetime(2020, 5, 26, 5, 21, 46), 'date_updated': datetime.datetime(2020, 7, 2, 5, 21, 46), 'date_completed': datetime.datetime(2020, 7, 2, 5, 21, 46)}\n",
      "{'id': 269, 'title': \"burps by's truly of\", 'project': 'PAPA', 'assignee': 2, 'description': 'Integer ac neque. Duis bibendum. Morbi non quam nec dui luctus rutrum.', 'date_created': datetime.datetime(2020, 5, 12, 12, 52, 23), 'date_updated': datetime.datetime(2020, 6, 27, 12, 52, 23), 'date_completed': datetime.datetime(2020, 6, 27, 12, 52, 23)}\n",
      "{'id': 324, 'title': 'climbers treatises cuffed wish', 'project': 'JULIETT', 'assignee': 13, 'description': 'Nam nulla. Integer pede justo, lacinia eget, tincidunt eget, tempus vel, pede.', 'date_created': datetime.datetime(2020, 4, 22, 17, 21, 44), 'date_updated': datetime.datetime(2020, 6, 25, 17, 21, 44), 'date_completed': None}\n",
      "{'id': 329, 'title': 'swung pandered jambs edits', 'project': 'BRAVO', 'assignee': 12, 'description': 'Praesent lectus. Vestibulum quam sapien, varius ut, blandit non, interdum in, ante.', 'date_created': datetime.datetime(2020, 5, 30, 6, 53, 9), 'date_updated': datetime.datetime(2020, 7, 5, 6, 53, 9), 'date_completed': None}\n",
      "{'id': 409, 'title': 'decease chewing bays ma', 'project': 'GOLF', 'assignee': 13, 'description': 'Nullam varius. Nulla facilisi. Cras non velit nec nisi vulputate nonummy. Maecenas tincidunt lacus at velit.', 'date_created': datetime.datetime(2020, 3, 20, 21, 18, 35), 'date_updated': datetime.datetime(2020, 6, 17, 21, 18, 35), 'date_completed': datetime.datetime(2020, 6, 17, 21, 18, 35)}\n",
      "{'id': 417, 'title': \"surge's labels puppet soles\", 'project': 'JULIETT', 'assignee': 16, 'description': 'Nulla mollis molestie lorem.', 'date_created': datetime.datetime(2020, 5, 23, 18, 12, 48), 'date_updated': datetime.datetime(2020, 7, 3, 18, 12, 48), 'date_completed': datetime.datetime(2020, 7, 3, 18, 12, 48)}\n",
      "{'id': 423, 'title': \"smuggler bluebird tenet's pea\", 'project': 'DELTA', 'assignee': 1, 'description': 'Vivamus vestibulum sagittis sapien. Cum sociis natoque penatibus et magnis dis parturient montes, nascetur ridiculus mus.', 'date_created': datetime.datetime(2020, 4, 10, 15, 46, 4), 'date_updated': datetime.datetime(2020, 6, 22, 15, 46, 4), 'date_completed': None}\n",
      "{'id': 439, 'title': \"empire compressed tip's pests\", 'project': 'ECHO', 'assignee': 18, 'description': 'Nunc purus.', 'date_created': datetime.datetime(2020, 6, 19, 16, 34, 5), 'date_updated': datetime.datetime(2020, 6, 26, 16, 34, 5), 'date_completed': None}\n",
      "{'id': 464, 'title': 'booty foresight sawing ad', 'project': 'ZULU', 'assignee': 17, 'description': 'Duis at velit eu est congue elementum. In hac habitasse platea dictumst.', 'date_created': datetime.datetime(2020, 6, 24, 6, 10, 21), 'date_updated': datetime.datetime(2020, 7, 1, 6, 10, 21), 'date_completed': datetime.datetime(2020, 7, 1, 6, 10, 21)}\n",
      "{'id': 467, 'title': \"dagger's ventilator cheeks go\", 'project': 'MIKE', 'assignee': 13, 'description': 'Quisque id justo sit amet sapien dignissim vestibulum.', 'date_created': datetime.datetime(2020, 5, 24, 15, 58, 21), 'date_updated': datetime.datetime(2020, 6, 27, 15, 58, 21), 'date_completed': datetime.datetime(2020, 6, 27, 15, 58, 21)}\n",
      "{'id': 476, 'title': \"weathers doorway's that NW's\", 'project': 'GOLF', 'assignee': 19, 'description': 'Cum sociis natoque penatibus et magnis dis parturient montes, nascetur ridiculus mus. Etiam vel augue. Vestibulum rutrum rutrum neque. Aenean auctor gravida sem. Praesent id massa id nisl venenatis lacinia.', 'date_created': datetime.datetime(2020, 4, 11, 7, 59, 58), 'date_updated': datetime.datetime(2020, 6, 21, 7, 59, 58), 'date_completed': datetime.datetime(2020, 6, 21, 7, 59, 58)}\n",
      "{'id': 478, 'title': 'trialed cub earmark skid', 'project': 'ZULU', 'assignee': 7, 'description': 'Integer aliquet, massa id lobortis convallis, tortor risus dapibus augue, vel accumsan tellus nisi eu orci. Mauris lacinia sapien quis libero. Nullam sit amet turpis elementum ligula vehicula consequat. Morbi a ipsum. Integer a nibh.', 'date_created': datetime.datetime(2020, 4, 9, 19, 39, 15), 'date_updated': datetime.datetime(2020, 7, 5, 19, 39, 15), 'date_completed': None}\n",
      "{'id': 480, 'title': 'stutter tendon stint gel', 'project': 'FOXTROT', 'assignee': 17, 'description': 'Vestibulum ante ipsum primis in faucibus orci luctus et ultrices posuere cubilia Curae.Duis faucibus accumsan odio. Curabitur convallis. Duis consequat dui nec nisi volutpat eleifend. Donec ut dolor.', 'date_created': datetime.datetime(2020, 5, 30, 6, 35, 19), 'date_updated': datetime.datetime(2020, 6, 20, 6, 35, 19), 'date_completed': datetime.datetime(2020, 6, 20, 6, 35, 19)}\n",
      "{'id': 484, 'title': 'chopper maims duly woke', 'project': 'YANKEE', 'assignee': 4, 'description': 'Integer ac neque. Duis bibendum. Morbi non quam nec dui luctus rutrum. Nulla tellus. In sagittis dui vel nisl.', 'date_created': datetime.datetime(2020, 4, 30, 1, 23, 25), 'date_updated': datetime.datetime(2020, 6, 12, 1, 23, 25), 'date_completed': None}\n",
      "{'id': 510, 'title': 'tiffs apologize merely we', 'project': 'JULIETT', 'assignee': 13, 'description': 'Vestibulum ante ipsum primis in faucibus orci luctus et ultrices posuere cubilia Curae.Mauris viverra diam vitae quam. Suspendisse potenti. Nullam porttitor lacus at turpis. Donec posuere metus vitae ipsum.', 'date_created': datetime.datetime(2020, 4, 10, 22, 43, 48), 'date_updated': datetime.datetime(2020, 7, 8, 22, 43, 48), 'date_completed': datetime.datetime(2020, 7, 8, 22, 43, 48)}\n",
      "{'id': 512, 'title': \"banged assemblers oboe's wrest\", 'project': 'KILO', 'assignee': 16, 'description': 'Praesent blandit. Nam nulla. Integer pede justo, lacinia eget, tincidunt eget, tempus vel, pede. Morbi porttitor lorem id ligula. Suspendisse ornare consequat lectus.', 'date_created': datetime.datetime(2020, 5, 22, 17, 12, 57), 'date_updated': datetime.datetime(2020, 6, 28, 17, 12, 57), 'date_completed': None}\n",
      "{'id': 541, 'title': 'glint mas ream be', 'project': 'ZULU', 'assignee': 2, 'description': 'Quisque arcu libero, rutrum ac, lobortis vel, dapibus at, diam.', 'date_created': datetime.datetime(2020, 4, 9, 13, 59, 24), 'date_updated': datetime.datetime(2020, 7, 5, 13, 59, 24), 'date_completed': None}\n",
      "{'id': 543, 'title': 'February tobogganed dapperer vex', 'project': 'UNIFORM', 'assignee': 20, 'description': 'Vestibulum ante ipsum primis in faucibus orci luctus et ultrices posuere cubilia Curae.Duis faucibus accumsan odio.', 'date_created': datetime.datetime(2020, 6, 29, 1, 48, 40), 'date_updated': datetime.datetime(2020, 6, 29, 1, 48, 40), 'date_completed': datetime.datetime(2020, 6, 29, 1, 48, 40)}\n",
      "{'id': 547, 'title': \"thanks squeakiest liter's gorge\", 'project': 'NOVEMBER', 'assignee': 8, 'description': 'Cras in purus eu magna vulputate luctus. Cum sociis natoque penatibus et magnis dis parturient montes, nascetur ridiculus mus. Vivamus vestibulum sagittis sapien.', 'date_created': datetime.datetime(2020, 5, 5, 17, 20, 58), 'date_updated': datetime.datetime(2020, 6, 24, 17, 20, 58), 'date_completed': datetime.datetime(2020, 6, 24, 17, 20, 58)}\n",
      "{'id': 552, 'title': 'waging wallpapers gulped gel', 'project': 'X-RAY', 'assignee': 4, 'description': 'Cras non velit nec nisi vulputate nonummy.', 'date_created': datetime.datetime(2020, 6, 1, 4, 24, 11), 'date_updated': datetime.datetime(2020, 6, 12, 4, 24, 11), 'date_completed': datetime.datetime(2020, 6, 12, 4, 24, 11)}\n",
      "{'id': 567, 'title': 'breads continuous cast as', 'project': 'NOVEMBER', 'assignee': 15, 'description': 'Quisque ut erat. Curabitur gravida nisi at nibh.', 'date_created': datetime.datetime(2020, 5, 14, 1, 6, 28), 'date_updated': datetime.datetime(2020, 7, 9, 1, 6, 28), 'date_completed': None}\n",
      "{'id': 610, 'title': 'flaky pious reeling tune', 'project': 'VICTOR', 'assignee': 13, 'description': 'Nullam molestie nibh in lectus. Pellentesque at nulla. Suspendisse potenti. Cras in purus eu magna vulputate luctus.', 'date_created': datetime.datetime(2020, 4, 24, 20, 29, 17), 'date_updated': datetime.datetime(2020, 6, 18, 20, 29, 17), 'date_completed': datetime.datetime(2020, 6, 18, 20, 29, 17)}\n",
      "{'id': 614, 'title': 'chuckled forearm repeat melt', 'project': 'SIERRA', 'assignee': 3, 'description': 'Phasellus id sapien in sapien iaculis congue. Vivamus metus arcu, adipiscing molestie, hendrerit at, vulputate vitae, nisl. Aenean lectus. Pellentesque eget nunc. Donec quis orci eget orci vehicula condimentum.', 'date_created': datetime.datetime(2020, 5, 13, 13, 24, 21), 'date_updated': datetime.datetime(2020, 6, 20, 13, 24, 21), 'date_completed': datetime.datetime(2020, 6, 20, 13, 24, 21)}\n",
      "{'id': 616, 'title': 'sublet costumes bossy newts', 'project': 'JULIETT', 'assignee': 20, 'description': 'Nam nulla. Integer pede justo, lacinia eget, tincidunt eget, tempus vel, pede. Morbi porttitor lorem id ligula. Suspendisse ornare consequat lectus.', 'date_created': datetime.datetime(2020, 5, 3, 18, 10, 23), 'date_updated': datetime.datetime(2020, 6, 14, 18, 10, 23), 'date_completed': datetime.datetime(2020, 6, 14, 18, 10, 23)}\n",
      "{'id': 620, 'title': \"shanty's aim's towered swish\", 'project': 'HOTEL', 'assignee': 19, 'description': 'Praesent id massa id nisl venenatis lacinia. Aenean sit amet justo.', 'date_created': datetime.datetime(2020, 4, 6, 4, 8, 36), 'date_updated': datetime.datetime(2020, 6, 30, 4, 8, 36), 'date_completed': datetime.datetime(2020, 6, 30, 4, 8, 36)}\n",
      "{'id': 622, 'title': 'incurred wrestling meting yearn', 'project': 'VICTOR', 'assignee': 14, 'description': 'Integer pede justo, lacinia eget, tincidunt eget, tempus vel, pede. Morbi porttitor lorem id ligula. Suspendisse ornare consequat lectus. In est risus, auctor sed, tristique in, tempus sit amet, sem.', 'date_created': datetime.datetime(2020, 5, 11, 5, 45, 12), 'date_updated': datetime.datetime(2020, 6, 23, 5, 45, 12), 'date_completed': None}\n",
      "{'id': 628, 'title': 'heckling huh warmed embed', 'project': 'BRAVO', 'assignee': 15, 'description': 'Morbi porttitor lorem id ligula. Suspendisse ornare consequat lectus. In est risus, auctor sed, tristique in, tempus sit amet, sem.', 'date_created': datetime.datetime(2020, 6, 4, 17, 15, 29), 'date_updated': datetime.datetime(2020, 6, 13, 17, 15, 29), 'date_completed': datetime.datetime(2020, 6, 13, 17, 15, 29)}\n",
      "{'id': 650, 'title': 'bestowed pond homemade whim', 'project': 'NOVEMBER', 'assignee': 10, 'description': 'Nullam sit amet turpis elementum ligula vehicula consequat. Morbi a ipsum. Integer a nibh. In quis justo.', 'date_created': datetime.datetime(2020, 5, 17, 1, 53, 53), 'date_updated': datetime.datetime(2020, 6, 14, 1, 53, 53), 'date_completed': datetime.datetime(2020, 6, 14, 1, 53, 53)}\n",
      "{'id': 657, 'title': 'parade opt taped this', 'project': 'MIKE', 'assignee': 16, 'description': 'In eleifend quam a odio. In hac habitasse platea dictumst. Maecenas ut massa quis augue luctus tincidunt.', 'date_created': datetime.datetime(2020, 6, 17, 23, 4, 56), 'date_updated': datetime.datetime(2020, 6, 28, 23, 4, 56), 'date_completed': None}\n",
      "{'id': 659, 'title': 'ascetics slats flexing sex', 'project': 'ALFA', 'assignee': 20, 'description': 'Integer a nibh. In quis justo. Maecenas rhoncus aliquam lacus. Morbi quis tortor id nulla ultrices aliquet. Maecenas leo odio, condimentum id, luctus nec, molestie sed, justo.', 'date_created': datetime.datetime(2020, 4, 9, 19, 24, 27), 'date_updated': datetime.datetime(2020, 7, 1, 19, 24, 27), 'date_completed': datetime.datetime(2020, 7, 1, 19, 24, 27)}\n",
      "{'id': 665, 'title': 'chain outing yacks crook', 'project': 'KILO', 'assignee': 18, 'description': 'Nullam molestie nibh in lectus. Pellentesque at nulla. Suspendisse potenti.', 'date_created': datetime.datetime(2020, 5, 27, 14, 3, 48), 'date_updated': datetime.datetime(2020, 7, 9, 14, 3, 48), 'date_completed': None}\n",
      "{'id': 682, 'title': \"tweed dab's brother pikes\", 'project': 'PAPA', 'assignee': 2, 'description': 'Morbi vel lectus in quam fringilla rhoncus. Mauris enim leo, rhoncus sed, vestibulum sit amet, cursus id, turpis.', 'date_created': datetime.datetime(2020, 6, 28, 17, 16, 21), 'date_updated': datetime.datetime(2020, 7, 5, 17, 16, 21), 'date_completed': None}\n",
      "{'id': 690, 'title': \"maroons reopens pastor's fully\", 'project': 'FOXTROT', 'assignee': 12, 'description': 'Suspendisse potenti.', 'date_created': datetime.datetime(2020, 5, 30, 11, 9, 43), 'date_updated': datetime.datetime(2020, 6, 26, 11, 9, 43), 'date_completed': datetime.datetime(2020, 6, 26, 11, 9, 43)}\n",
      "{'id': 692, 'title': \"ravens bedside's callus's pi\", 'project': 'FOXTROT', 'assignee': 19, 'description': 'Praesent id massa id nisl venenatis lacinia. Aenean sit amet justo. Morbi ut odio. Cras mi pede, malesuada in, imperdiet et, commodo vulputate, justo. In blandit ultrices enim.', 'date_created': datetime.datetime(2020, 4, 19, 23, 51, 14), 'date_updated': datetime.datetime(2020, 7, 2, 23, 51, 14), 'date_completed': None}\n",
      "{'id': 701, 'title': \"drivel gracefully anger's cods\", 'project': 'NOVEMBER', 'assignee': 10, 'description': 'Cras mi pede, malesuada in, imperdiet et, commodo vulputate, justo. In blandit ultrices enim. Lorem ipsum dolor sit amet, consectetuer adipiscing elit. Proin interdum mauris non ligula pellentesque ultrices.', 'date_created': datetime.datetime(2020, 6, 2, 10, 4, 12), 'date_updated': datetime.datetime(2020, 6, 12, 10, 4, 12), 'date_completed': datetime.datetime(2020, 6, 12, 10, 4, 12)}\n",
      "{'id': 715, 'title': 'craned kilometer facets grunt', 'project': 'INDIA', 'assignee': 17, 'description': 'Aenean sit amet justo. Morbi ut odio. Cras mi pede, malesuada in, imperdiet et, commodo vulputate, justo. In blandit ultrices enim. Lorem ipsum dolor sit amet, consectetuer adipiscing elit.', 'date_created': datetime.datetime(2020, 5, 5, 15, 57, 13), 'date_updated': datetime.datetime(2020, 6, 19, 15, 57, 13), 'date_completed': datetime.datetime(2020, 6, 19, 15, 57, 13)}\n",
      "{'id': 720, 'title': \"thyme's gonna fibs ho\", 'project': 'VICTOR', 'assignee': 20, 'description': 'Duis mattis egestas metus. Aenean fermentum. Donec ut mauris eget massa tempor convallis. Nulla neque libero, convallis eget, eleifend luctus, ultricies eu, nibh. Quisque id justo sit amet sapien dignissim vestibulum.', 'date_created': datetime.datetime(2020, 6, 21, 21, 29, 52), 'date_updated': datetime.datetime(2020, 6, 24, 21, 29, 52), 'date_completed': datetime.datetime(2020, 6, 24, 21, 29, 52)}\n",
      "{'id': 730, 'title': 'saucer weary poop top', 'project': 'QUEBEC', 'assignee': 9, 'description': 'Sed sagittis. Nam congue, risus semper porta volutpat, quam pede lobortis ligula, sit amet eleifend pede libero quis orci.', 'date_created': datetime.datetime(2020, 4, 28, 12, 36, 29), 'date_updated': datetime.datetime(2020, 7, 4, 12, 36, 29), 'date_completed': datetime.datetime(2020, 7, 4, 12, 36, 29)}\n",
      "{'id': 736, 'title': \"junket bedding's regalia vice\", 'project': 'BRAVO', 'assignee': 8, 'description': 'Cras pellentesque volutpat dui. Maecenas tristique, est et tempus semper, est quam pharetra magna, ac consequat metus sapien ut nunc.', 'date_created': datetime.datetime(2020, 6, 29, 19, 55, 57), 'date_updated': datetime.datetime(2020, 7, 5, 19, 55, 57), 'date_completed': None}\n",
      "{'id': 738, 'title': 'gasping binomial plantain gym', 'project': 'KILO', 'assignee': 8, 'description': 'Morbi vestibulum, velit id pretium iaculis, diam erat fermentum justo, nec condimentum neque sapien placerat ante. Nulla justo. Aliquam quis turpis eget elit sodales scelerisque.', 'date_created': datetime.datetime(2020, 5, 29, 10, 2, 25), 'date_updated': datetime.datetime(2020, 6, 23, 10, 2, 25), 'date_completed': None}\n",
      "{'id': 745, 'title': \"gait's sled teat dad\", 'project': 'WHISKEY', 'assignee': 17, 'description': 'Vivamus in felis eu sapien cursus vestibulum. Proin eu mi. Nulla ac enim. In tempor, turpis nec euismod scelerisque, quam turpis adipiscing lorem, vitae mattis nibh ligula nec sem.', 'date_created': datetime.datetime(2020, 6, 19, 9, 23, 39), 'date_updated': datetime.datetime(2020, 6, 30, 9, 23, 39), 'date_completed': datetime.datetime(2020, 6, 30, 9, 23, 39)}\n",
      "{'id': 751, 'title': 'frights pry livable us', 'project': 'CHARLIE', 'assignee': 15, 'description': 'Donec posuere metus vitae ipsum. Aliquam non mauris.', 'date_created': datetime.datetime(2020, 4, 30, 3, 24, 35), 'date_updated': datetime.datetime(2020, 6, 14, 3, 24, 35), 'date_completed': None}\n",
      "{'id': 765, 'title': 'cockiest warnings absolute faded', 'project': 'LIMA', 'assignee': 11, 'description': 'Nam ultrices, libero non mattis pulvinar, nulla pede ullamcorper augue, a suscipit nulla elit ac nulla. Sed vel enim sit amet nunc viverra dapibus.', 'date_created': datetime.datetime(2020, 4, 7, 2, 52, 52), 'date_updated': datetime.datetime(2020, 6, 14, 2, 52, 52), 'date_completed': datetime.datetime(2020, 6, 14, 2, 52, 52)}\n",
      "{'id': 773, 'title': 'distinct stigma catering rip', 'project': 'YANKEE', 'assignee': 3, 'description': 'Pellentesque at nulla. Suspendisse potenti. Cras in purus eu magna vulputate luctus.', 'date_created': datetime.datetime(2020, 5, 12, 13, 7, 28), 'date_updated': datetime.datetime(2020, 6, 26, 13, 7, 28), 'date_completed': datetime.datetime(2020, 6, 26, 13, 7, 28)}\n",
      "{'id': 780, 'title': 'lashes tots purr fig', 'project': 'SIERRA', 'assignee': 12, 'description': 'Etiam faucibus cursus urna.', 'date_created': datetime.datetime(2020, 4, 9, 14, 53, 11), 'date_updated': datetime.datetime(2020, 6, 19, 14, 53, 11), 'date_completed': datetime.datetime(2020, 6, 19, 14, 53, 11)}\n",
      "{'id': 797, 'title': 'galled reveler taints veer', 'project': 'GOLF', 'assignee': 16, 'description': 'Duis aliquam convallis nunc. Proin at turpis a pede posuere nonummy. Integer non velit. Donec diam neque, vestibulum eget, vulputate ut, ultrices vel, augue.', 'date_created': datetime.datetime(2020, 4, 24, 7, 29, 45), 'date_updated': datetime.datetime(2020, 6, 28, 7, 29, 45), 'date_completed': datetime.datetime(2020, 6, 28, 7, 29, 45)}\n",
      "{'id': 802, 'title': \"paw's supervises fashions tows\", 'project': 'KILO', 'assignee': 10, 'description': 'In hac habitasse platea dictumst. Maecenas ut massa quis augue luctus tincidunt.', 'date_created': datetime.datetime(2020, 4, 23, 20, 2, 36), 'date_updated': datetime.datetime(2020, 6, 17, 20, 2, 36), 'date_completed': datetime.datetime(2020, 6, 17, 20, 2, 36)}\n",
      "{'id': 811, 'title': 'matronly milkmen storeys chapt', 'project': 'GOLF', 'assignee': 14, 'description': 'Vivamus vestibulum sagittis sapien. Cum sociis natoque penatibus et magnis dis parturient montes, nascetur ridiculus mus. Etiam vel augue. Vestibulum rutrum rutrum neque. Aenean auctor gravida sem.', 'date_created': datetime.datetime(2020, 6, 23, 23, 51, 50), 'date_updated': datetime.datetime(2020, 6, 23, 23, 51, 50), 'date_completed': datetime.datetime(2020, 6, 23, 23, 51, 50)}\n",
      "{'id': 822, 'title': 'slush fond consents want', 'project': 'ZULU', 'assignee': 6, 'description': 'Vestibulum rutrum rutrum neque. Aenean auctor gravida sem. Praesent id massa id nisl venenatis lacinia. Aenean sit amet justo. Morbi ut odio.', 'date_created': datetime.datetime(2020, 5, 8, 7, 55, 35), 'date_updated': datetime.datetime(2020, 6, 27, 7, 55, 35), 'date_completed': datetime.datetime(2020, 6, 27, 7, 55, 35)}\n",
      "{'id': 826, 'title': 'paths singed noising dish', 'project': 'GOLF', 'assignee': 4, 'description': 'Duis at velit eu est congue elementum.', 'date_created': datetime.datetime(2020, 4, 6, 9, 28, 6), 'date_updated': datetime.datetime(2020, 6, 13, 9, 28, 6), 'date_completed': datetime.datetime(2020, 6, 13, 9, 28, 6)}\n",
      "{'id': 859, 'title': 'pledged blur like oak', 'project': 'BRAVO', 'assignee': 8, 'description': 'Duis bibendum, felis sed interdum venenatis, turpis enim blandit mi, in porttitor pede justo eu massa. Donec dapibus.', 'date_created': datetime.datetime(2020, 4, 24, 6, 45, 35), 'date_updated': datetime.datetime(2020, 6, 19, 6, 45, 35), 'date_completed': datetime.datetime(2020, 6, 19, 6, 45, 35)}\n",
      "{'id': 860, 'title': \"jailor adviser's riddle or\", 'project': 'UNIFORM', 'assignee': 7, 'description': 'Duis bibendum, felis sed interdum venenatis, turpis enim blandit mi, in porttitor pede justo eu massa. Donec dapibus.', 'date_created': datetime.datetime(2020, 6, 8, 9, 38, 45), 'date_updated': datetime.datetime(2020, 7, 6, 9, 38, 45), 'date_completed': None}\n",
      "{'id': 862, 'title': 'urging aisle drama hi', 'project': 'KILO', 'assignee': 8, 'description': 'Nulla neque libero, convallis eget, eleifend luctus, ultricies eu, nibh.', 'date_created': datetime.datetime(2020, 5, 29, 10, 17, 5), 'date_updated': datetime.datetime(2020, 6, 24, 10, 17, 5), 'date_completed': datetime.datetime(2020, 6, 24, 10, 17, 5)}\n",
      "{'id': 886, 'title': 'ballast funeral tabooing sunk', 'project': 'ROMEO', 'assignee': 12, 'description': 'Morbi porttitor lorem id ligula. Suspendisse ornare consequat lectus.', 'date_created': datetime.datetime(2020, 3, 20, 9, 45, 45), 'date_updated': datetime.datetime(2020, 6, 13, 9, 45, 45), 'date_completed': None}\n",
      "{'id': 896, 'title': 'queer coherently mundane no', 'project': 'ECHO', 'assignee': 5, 'description': 'Aliquam non mauris.', 'date_created': datetime.datetime(2020, 4, 6, 20, 44, 47), 'date_updated': datetime.datetime(2020, 7, 3, 20, 44, 47), 'date_completed': None}\n",
      "{'id': 901, 'title': 'revenge they teems far', 'project': 'SIERRA', 'assignee': 16, 'description': 'In sagittis dui vel nisl. Duis ac nibh. Fusce lacus purus, aliquet at, feugiat non, pretium quis, lectus.', 'date_created': datetime.datetime(2020, 3, 28, 20, 16, 25), 'date_updated': datetime.datetime(2020, 6, 15, 20, 16, 25), 'date_completed': None}\n",
      "{'id': 911, 'title': \"sponge cast's depress OK\", 'project': 'JULIETT', 'assignee': 9, 'description': 'Aenean lectus. Pellentesque eget nunc.', 'date_created': datetime.datetime(2020, 6, 14, 13, 44, 31), 'date_updated': datetime.datetime(2020, 6, 14, 13, 44, 31), 'date_completed': None}\n",
      "{'id': 916, 'title': 'wrest cab impended err', 'project': 'TANGO', 'assignee': 16, 'description': 'Vestibulum ante ipsum primis in faucibus orci luctus et ultrices posuere cubilia Curae.Nulla dapibus dolor vel est. Donec odio justo, sollicitudin ut, suscipit a, feugiat et, eros. Vestibulum ac est lacinia nisi venenatis tristique.', 'date_created': datetime.datetime(2020, 4, 1, 7, 10, 3), 'date_updated': datetime.datetime(2020, 6, 29, 7, 10, 3), 'date_completed': None}\n",
      "{'id': 933, 'title': \"budging ergo mask's train\", 'project': 'ECHO', 'assignee': 3, 'description': 'Donec dapibus. Duis at velit eu est congue elementum. In hac habitasse platea dictumst. Morbi vestibulum, velit id pretium iaculis, diam erat fermentum justo, nec condimentum neque sapien placerat ante.', 'date_created': datetime.datetime(2020, 6, 29, 2, 43, 3), 'date_updated': datetime.datetime(2020, 7, 2, 2, 43, 3), 'date_completed': None}\n",
      "{'id': 944, 'title': 'glacier roe sausage OK', 'project': 'KILO', 'assignee': 3, 'description': 'Proin eu mi.', 'date_created': datetime.datetime(2020, 4, 14, 14, 2, 43), 'date_updated': datetime.datetime(2020, 7, 2, 14, 2, 43), 'date_completed': None}\n",
      "{'id': 962, 'title': 'wrote stuffiest shelf owes', 'project': 'NOVEMBER', 'assignee': 6, 'description': 'Integer tincidunt ante vel ipsum. Praesent blandit lacinia erat. Vestibulum sed magna at nunc commodo placerat. Praesent blandit.', 'date_created': datetime.datetime(2020, 4, 25, 8, 16, 17), 'date_updated': datetime.datetime(2020, 6, 23, 8, 16, 17), 'date_completed': datetime.datetime(2020, 6, 23, 8, 16, 17)}\n",
      "{'id': 971, 'title': \"buttress panaceas hash's grew\", 'project': 'ZULU', 'assignee': 14, 'description': 'Integer ac neque. Duis bibendum. Morbi non quam nec dui luctus rutrum. Nulla tellus. In sagittis dui vel nisl.', 'date_created': datetime.datetime(2020, 5, 19, 3, 54, 19), 'date_updated': datetime.datetime(2020, 6, 13, 3, 54, 19), 'date_completed': datetime.datetime(2020, 6, 13, 3, 54, 19)}\n"
     ]
    }
   ],
   "source": [
    "db = mysql.connector.connect(\n",
    "  host=host,\n",
    "  user=\"root\",\n",
    "  passwd=\"superadmin123\",\n",
    "  database=\"bug_tracker_aggregate\"\n",
    ")\n",
    "\n",
    "cursor = db.cursor(dictionary=True)\n",
    "\n",
    "# query to answer the question\n",
    "query = '''\n",
    "SELECT COUNT(*) ticket_count \n",
    "FROM (\n",
    "    SELECT\n",
    "        t.id,\n",
    "        DATEDIFF(t.date_completed, t.date_created) AS completed\n",
    "    FROM tickets t \n",
    "    WHERE t.date_completed IS NOT NULL \n",
    "    HAVING completed <= 10\n",
    ") AS quickly_completed_tickets\n",
    "'''\n",
    "\n",
    "cursor.execute(query)\n",
    "\n",
    "print(*cursor.fetchall(), sep='\\n')\n",
    "cursor.close()\n",
    "db.close()"
   ]
  },
  {
   "cell_type": "markdown",
   "metadata": {},
   "source": [
    "### Exercise\n",
    "\n",
    "Find tickets that took _more than 80 days_ to complete.\n",
    "How can you find tickets that were updated within the past month?"
   ]
  },
  {
   "cell_type": "markdown",
   "metadata": {},
   "source": [
    "---"
   ]
  },
  {
   "cell_type": "markdown",
   "metadata": {},
   "source": [
    "**BONUS**: Ask a question about the data, and then answer it using Python and SQL."
   ]
  }
 ],
 "metadata": {
  "environment": {
   "name": "common-cpu.m50",
   "type": "gcloud",
   "uri": "gcr.io/deeplearning-platform-release/base-cpu:m50"
  },
  "kernelspec": {
   "display_name": "Python 3",
   "language": "python",
   "name": "python3"
  },
  "language_info": {
   "codemirror_mode": {
    "name": "ipython",
    "version": 3
   },
   "file_extension": ".py",
   "mimetype": "text/x-python",
   "name": "python",
   "nbconvert_exporter": "python",
   "pygments_lexer": "ipython3",
   "version": "3.7.6"
  }
 },
 "nbformat": 4,
 "nbformat_minor": 4
}