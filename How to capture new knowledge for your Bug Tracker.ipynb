{
 "cells": [
  {
   "cell_type": "markdown",
   "metadata": {},
   "source": [
    "# How to Capture New Knowledge for Your Bug Tracker"
   ]
  },
  {
   "cell_type": "markdown",
   "metadata": {},
   "source": [
    "Congratulations!\n",
    "The Bug Tracker you designed for your company is a hit!\n",
    "Now, how do we take the data we have and turn it into some meaningful metrics."
   ]
  },
  {
   "cell_type": "markdown",
   "metadata": {},
   "source": [
    "### Retreiving the Cloud SQL MySQL Database Host\n",
    "\n",
    "From the [GCP Console](https://console.cloud.google.com/) search bar at the top of the page, type in SQL. Click the SQL result to open the Cloud SQL console view.\n",
    "\n",
    "![](assets/20250423102654.png)\n",
    "\n",
    "Observe the bugtracker-db Cloud SQL MySQL instance that has been created for you by the Cloud Academy lab environment.\n",
    "\n",
    "Continue with the lab once the instance is ready. It can take 20 minutes from when you started the lab for the instance to reach the ready status:\n",
    "\n",
    "![](assets/20250423103415.png)\n",
    "\n",
    "Copy the Public IP address and use it to overwrite the `REPLACE_ME` value in the code block in the following section."
   ]
  },
  {
   "cell_type": "markdown",
   "metadata": {},
   "source": [
    "### Populating the Database\n",
    "\n",
    "Before diving in, we'll need to populate the database with some mock data.\n",
    "Use the `data.sql` file along with the python code below to create and populate the database.\n",
    "We'll be creating 20 users and 1000 tickets.\n",
    "That should be enough data to work with."
   ]
  },
  {
   "cell_type": "code",
   "execution_count": null,
   "metadata": {},
   "outputs": [],
   "source": [
    "# create database and table schema\n",
    "! pip install mysql-connector-python\n",
    "\n",
    "import mysql.connector\n",
    "\n",
    "# make sure the host matches your GCP instance along with the password created earlier.\n",
    "host = \"REPLACE_ME\"\n",
    "db = mysql.connector.connect(\n",
    "  host=host,\n",
    "  user=\"root\",\n",
    "  passwd=\"superadmin123\"\n",
    ")\n",
    "\n",
    "cursor = db.cursor()\n",
    "\n",
    "# drop/create/insert database\n",
    "with open('./data_files/lab9/data.sql') as f:\n",
    "    commands = f.read().split(';')\n",
    "    f.close()\n",
    "    print('populating database...')\n",
    "    for command in commands:\n",
    "        try:\n",
    "            if command.strip() != '':\n",
    "                cursor.execute(command)\n",
    "        except:\n",
    "            print('[ERROR]:', command)\n",
    "    db.commit()\n",
    "    print('data insert complete')\n",
    "\n",
    "cursor.close()\n",
    "db.close()"
   ]
  },
  {
   "cell_type": "markdown",
   "metadata": {},
   "source": [
    "Let's run a small test query to make sure the data was populated correctly.\n",
    "The query below will grab a ticket id, ticket title, and the users email address that is assigned to the ticket.\n",
    "The `title` might not make any sense, but thats what test data is for!"
   ]
  },
  {
   "cell_type": "code",
   "execution_count": null,
   "metadata": {},
   "outputs": [],
   "source": [
    "db = mysql.connector.connect(\n",
    "  host=host,\n",
    "  user=\"root\",\n",
    "  passwd=\"superadmin123\",\n",
    "  database=\"bug_tracker_aggregate\"\n",
    ")\n",
    "\n",
    "cursor = db.cursor()\n",
    "# cursor.execute('SELECT t.id, t.title, u.email FROM tickets t INNER JOIN users u ON t.assignee=u.id ORDER BY RAND() LIMIT 5')\n",
    "cursor.execute('SELECT t.id, t.title, u.email FROM tickets t INNER JOIN users u ON t.assignee=u.id ORDER BY RAND() LIMIT 5')\n",
    "print(*cursor.fetchall(), sep='\\n')\n",
    "\n",
    "cursor.close()\n",
    "db.close()"
   ]
  },
  {
   "cell_type": "markdown",
   "metadata": {},
   "source": [
    "Here's the CREATE query for the `users` and `tickets` tables in our database.\n",
    "\n",
    "```sql\n",
    "CREATE TABLE IF NOT EXISTS users (\n",
    "  id INT AUTO_INCREMENT PRIMARY KEY,\n",
    "  first_name VARCHAR(30),\n",
    "  last_name VARCHAR(30),\n",
    "  email VARCHAR(80) UNIQUE\n",
    ") ENGINE=InnoDB;\n",
    "\n",
    "CREATE TABLE IF NOT EXISTS tickets (\n",
    "  id INT AUTO_INCREMENT PRIMARY KEY,\n",
    "  title VARCHAR(128),\n",
    "  project VARCHAR(64) NOT NULL,\n",
    "  assignee INT,\n",
    "  description TEXT,\n",
    "  date_created DATETIME DEFAULT CURRENT_TIMESTAMP,\n",
    "  date_updated DATETIME DEFAULT CURRENT_TIMESTAMP,\n",
    "  date_completed DATETIME NULL DEFAULT NULL,\n",
    "  FOREIGN KEY fk_assignee_id(assignee) REFERENCES users(id)\n",
    ") ENGINE=InnoDB;\n",
    "```"
   ]
  },
  {
   "cell_type": "markdown",
   "metadata": {},
   "source": [
    "We have all this data, and we need some meaningful metrics.\n",
    "We need to ask ourselves: _what question are we trying to answer with this data?_\n",
    "Throughout this lab, we'll learn how to answer the following questions:\n",
    "\n",
    "- How many tickets are open/closed?\n",
    "- Who has the most tickets assigned?\n",
    "- What is the longest time taken to complete a task?\n",
    "- What is the average time to close a ticket?\n",
    "- How many tickets we're completed in less than 10 days?\n",
    "\n",
    "There are a few ways to answer these questions.\n",
    "One could query the database for individual data, and then compare and/or manipulate it using python.\n",
    "Thoughout this lab we'll be doing all of the computations within MySQL, and python will only be our conduit to execute our queries.\n",
    "To do this, we'll be using MySQL's [aggregate functions](https://en.wikipedia.org/wiki/Aggregate_function).\n",
    "These are common in every RDBMS, such as: `SUM()`, `COUNT()`, and `AVG()`, to name a few.\n",
    "We'll be using these to answer the questions asked earlier."
   ]
  },
  {
   "cell_type": "markdown",
   "metadata": {},
   "source": [
    "## Question 1: _How many tickets are open/closed?_"
   ]
  },
  {
   "cell_type": "markdown",
   "metadata": {},
   "source": [
    "Looking at the `tickets` table, the `date_created` column does not have a default value.\n",
    "This is used to determine if a ticket is closed or not.\n",
    "If the colum is `NULL` then the ticket is considered open and considered closed when any date value is populated.\n",
    "Since we only care if the column is populated, not the data inself, we can use the `COUNT` aggregate function.\n",
    "The `COUNT` function counts the number of rows that it matches.\n",
    "\n",
    "Let's craft a SQL query to count the number of open tickets.\n",
    "To begin we'll count all tickets using `COUNT(*)`.\n",
    "```sql\n",
    "SELECT COUNT(*) AS counted_tickets\n",
    "FROM tickets t\n",
    "```\n",
    "To narrow this down we'll use the `WHERE` clause to only find tickets with `date_completed` being populated, giving us the number of closed tickets.\n",
    "```sql\n",
    "SELECT COUNT(*) AS closed_tickets\n",
    "FROM tickets t\n",
    "WHERE t.date_completed IS NOT NULL\n",
    "```\n",
    "We'll do the opposite for open tickets using `WHERE t.date_completed IS NULL`.\n",
    "Refer to the python code below for a full example."
   ]
  },
  {
   "cell_type": "code",
   "execution_count": null,
   "metadata": {},
   "outputs": [],
   "source": [
    "db = mysql.connector.connect(\n",
    "  host=host,\n",
    "  user=\"root\",\n",
    "  passwd=\"superadmin123\",\n",
    "  database=\"bug_tracker_aggregate\"\n",
    ")\n",
    "\n",
    "cursor = db.cursor(dictionary=True)\n",
    "\n",
    "# get number of tickets open\n",
    "cursor.execute('SELECT COUNT(*) AS tickets_open FROM tickets t WHERE t.date_completed IS NULL')\n",
    "tickets_open = cursor.fetchone()['tickets_open']\n",
    "\n",
    "# get number of tickets closed\n",
    "cursor.execute('SELECT COUNT(*) AS tickets_closed FROM tickets t WHERE t.date_completed IS NOT NULL')\n",
    "tickets_closed = cursor.fetchone()['tickets_closed']\n",
    "\n",
    "print('Tickets Open: {}\\nTickets Closed: {}'.format(tickets_open, tickets_closed))\n",
    "\n",
    "cursor.close()\n",
    "db.close()"
   ]
  },
  {
   "cell_type": "markdown",
   "metadata": {},
   "source": [
    "### Using a Single Query\n",
    "What if we wanted to combine the queries above into a single query to count the tickets in the database.\n",
    "There's nothing wrong with the code above, this is just another example of how to solve the same problem.\n",
    "The is not as straight forward as you might expect.\n",
    "One cannot simply combine the `SELECT` statements.\n",
    "\n",
    "For this to work correctly, we'll need to use some trickery using the `SUM` aggregate function, along with a `CASE` statement.\n",
    "A `CASE` statement is is the same as [switch statement](https://en.wikipedia.org/wiki/Switch_statement) if your familar with other programming languages.\n",
    "The trick is to return either a 1 or a 0 when `date_completed` is `NULL`.\n",
    "This can be added into the `SELECT` statement as such:\n",
    "```sql\n",
    "SUM(CASE WHEN t.date_completed IS NULL THEN 1 ELSE 0 END) AS 'tickets_open',\n",
    "```\n",
    "\n",
    "To calcuate tickets_closed, swap the 1 and 0 for the same logic:\n",
    "```sql\n",
    "SELECT\n",
    "  SUM(CASE WHEN t.date_completed IS NULL THEN 1 ELSE 0 END) AS 'tickets_open',\n",
    "  SUM(CASE WHEN t.date_completed IS NULL THEN 0 ELSE 1 END) AS 'tickets_closed'\n",
    "FROM tickets t;\n",
    "```\n",
    "\n",
    "#### Exercise\n",
    "Using the SQL above, edit the python code to use the single query and print the results to the console. (The solutions to exercises are included at the end of this notebook if you need to consult them)"
   ]
  },
  {
   "cell_type": "code",
   "execution_count": null,
   "metadata": {},
   "outputs": [],
   "source": [
    "db = mysql.connector.connect(\n",
    "  host=host,\n",
    "  user=\"root\",\n",
    "  passwd=\"superadmin123\",\n",
    "  database=\"bug_tracker_aggregate\"\n",
    ")\n",
    "\n",
    "cursor = db.cursor(dictionary=True)\n",
    "\n",
    "# Enter the single line query SQL below using cursor.execute()\n",
    "\n",
    "result = cursor.fetchone()\n",
    "\n",
    "# get number of tickets open\n",
    "tickets_open = result['tickets_open']\n",
    "\n",
    "# get number of tickets closed\n",
    "tickets_closed = result['tickets_closed']\n",
    "\n",
    "print('Tickets Open: {}\\nTickets Closed: {}'.format(tickets_open, tickets_closed))\n",
    "\n",
    "cursor.close()\n",
    "db.close()"
   ]
  },
  {
   "cell_type": "markdown",
   "metadata": {},
   "source": [
    "## Question 2: _Who has the most tickets assigned?_"
   ]
  },
  {
   "cell_type": "markdown",
   "metadata": {},
   "source": [
    "Explain `SUM()`, joining, `GROUP BY`, `ORDER BY`, and `LIMIT`\n",
    "To go about answering this question, we'll again turn to the `COUNT` function.\n",
    "As we need to count the number of tickets for each `assignee`, we'll also want to view the assignee in question.\n",
    "Let's start by querying for the `assignee` and counting the `tickets.id` column.\n",
    "To make this work, we need to [`GROUP BY`](https://dev.mysql.com/doc/refman/8.0/en/group-by-modifiers.html) the `assignee`.\n",
    "```sql\n",
    "SELECT t.assignee, COUNT(t.id) AS ticket_count FROM tickets t GROUP BY t.assignee;\n",
    "```\n",
    "This results in displaying the `assignee` along with the number of tickets they are assigned to.\n",
    "The result set looks similar to the following.\n",
    "\n",
    "![ticket count results](./assets/lab9/ticket_count_1.png)\n",
    "\n",
    "There are a couple of things wrong here:\n",
    "\n",
    "1. The ticket count is out of order, and its hard to determine who has the most.\n",
    "2. We get _all_ the users and their tickets, but we only want the user with the most tickets.\n",
    "3. Showing the user.id doesn't give us much information about ***who*** has the most tickets.\n",
    "\n",
    "Let's take care of each issue, one at a time.\n",
    "\n",
    "First, to order the results, we'll use the `ORDER BY` statement.\n",
    "This requires one or more columns to determine the order.\n",
    "By default, it will order the results in ascending order, we can change that by added `DESC` for descending after the column name.\n",
    "Let's update the SQL query:\n",
    "\n",
    "```sql\n",
    "SELECT t.assignee, COUNT(t.id) AS ticket_count FROM tickets t GROUP BY t.assignee ORDER BY ticket_count DESC;\n",
    "```\n",
    "\n",
    "Second, we only want the top result, we can tell MySQL to only return the first result by using the `LIMIT` statement.\n",
    "This returns `n` number of rows as a result.\n",
    "Since we're in descending order, let's limit this to the first result.\n",
    "\n",
    "```sql\n",
    "SELECT t.assignee, COUNT(t.id) AS ticket_count\n",
    "FROM tickets t\n",
    "GROUP BY t.assignee\n",
    "ORDER BY ticket_count DESC\n",
    "LIMIT 1;\n",
    "```\n",
    "Finally, let's add a little more information about the user.\n",
    "We'll do a `JOIN` on the user table and include the user's name along with their email address.\n",
    "\n",
    "```sql\n",
    "SELECT\n",
    "    CONCAT(u.first_name, ' ', u.last_name) AS name,\n",
    "    u.email, \n",
    "    COUNT(t.id) AS ticket_count\n",
    "FROM tickets t\n",
    "INNER JOIN users u ON u.id=t.assignee \n",
    "GROUP BY t.assignee \n",
    "ORDER BY ticket_count DESC\n",
    "LIMIT 1;\n",
    "```\n",
    "The result will look similar to the following.\n",
    "\n",
    "![ticket count results](./assets/lab9/ticket_count_2.png)\n",
    "\n",
    "Below is a python script to execute the query and print the results."
   ]
  },
  {
   "cell_type": "code",
   "execution_count": null,
   "metadata": {},
   "outputs": [],
   "source": [
    "db = mysql.connector.connect(\n",
    "  host=host,\n",
    "  user=\"root\",\n",
    "  passwd=\"superadmin123\",\n",
    "  database=\"bug_tracker_aggregate\"\n",
    ")\n",
    "\n",
    "cursor = db.cursor(dictionary=True)\n",
    "\n",
    "query = '''\n",
    "SELECT\n",
    "    CONCAT(u.first_name, ' ', u.last_name) AS name,\n",
    "    u.email, \n",
    "    COUNT(t.id) AS ticket_count\n",
    "FROM tickets t\n",
    "INNER JOIN users u ON u.id=t.assignee \n",
    "GROUP BY t.assignee \n",
    "ORDER BY ticket_count DESC\n",
    "LIMIT 1;\n",
    "'''\n",
    "\n",
    "# execute the query\n",
    "cursor.execute(query)\n",
    "\n",
    "print(*cursor.fetchall(), sep='\\n')\n",
    "cursor.close()\n",
    "db.close()"
   ]
  },
  {
   "cell_type": "markdown",
   "metadata": {},
   "source": [
    "### Exercise\n",
    "\n",
    "Update the SQL query to determine who has the _most closed tickets_ and who has the _most open tickets_."
   ]
  },
  {
   "cell_type": "markdown",
   "metadata": {},
   "source": [
    "## Question 3: _What is the longest time taken to complete a task?_"
   ]
  },
  {
   "cell_type": "markdown",
   "metadata": {},
   "source": [
    "Now we're going to start using data that we don't directly have in our database.\n",
    "We don't have a column called `days_to_complete` that we can query, but we can derive that using columns within our table.\n",
    "To determine how many days it takes to complete a ticket, we can use the [`DATEDIFF` (MySQL manual)](https://dev.mysql.com/doc/refman/8.0/en/date-and-time-functions.html#function_datediff) function on `tickets.date_created` and `tickets.date_completed`.\n",
    "While these columns are `TIMESTAMPS` we're only interested in how many _days_ it takes, and `DATEDIFF` returns the difference in days.\n",
    "\n",
    "This will use a lot of the techniques we've covered already.\n",
    "We'll need to make sure `date_completed` is `NOT NULL` as we're only focused on completed tickets; we'll need to order results in descending order; and limit the results to the first row.\n",
    "\n",
    "Before viewing the SQL code below, try to type out the SQL command yourself.\n",
    "\n",
    "```sql\n",
    "SELECT\n",
    "    DATEDIFF(t.date_completed, t.date_created) AS completed\n",
    "FROM tickets t\n",
    "WHERE t.date_completed IS NOT NULL\n",
    "ORDER BY completed DESC\n",
    "LIMIT 1;\n",
    "```\n",
    "\n",
    "You should get a result similar to the following:\n",
    "\n",
    "![logest task](./assets/lab9/long_task.png)\n",
    "\n",
    "The results can be acheived using the python code below."
   ]
  },
  {
   "cell_type": "code",
   "execution_count": null,
   "metadata": {},
   "outputs": [],
   "source": [
    "db = mysql.connector.connect(\n",
    "  host=host,\n",
    "  user=\"root\",\n",
    "  passwd=\"superadmin123\",\n",
    "  database=\"bug_tracker_aggregate\"\n",
    ")\n",
    "\n",
    "cursor = db.cursor(dictionary=True)\n",
    "\n",
    "# query to answer the question\n",
    "query = '''\n",
    "SELECT\n",
    "    DATEDIFF(t.date_completed, t.date_created) AS completed\n",
    "FROM tickets t\n",
    "WHERE t.date_completed IS NOT NULL\n",
    "ORDER BY completed DESC\n",
    "LIMIT 1\n",
    "'''\n",
    "\n",
    "cursor.execute(query)\n",
    "\n",
    "print(*cursor.fetchall(), sep='\\n')\n",
    "cursor.close()\n",
    "db.close()"
   ]
  },
  {
   "cell_type": "markdown",
   "metadata": {},
   "source": [
    "## Question 4: _- What is the average time to close a ticket?_"
   ]
  },
  {
   "cell_type": "markdown",
   "metadata": {},
   "source": [
    "Answering this question builds of the previous question.\n",
    "However, this time, we'll use the `AVG` aggregate function.\n",
    "This takes the average of all the data of a specific column.\n",
    "Be sure to remove `LIMIT 1` from the SQL query!\n",
    "\n",
    "```sql\n",
    "SELECT\n",
    "    AVG( DATEDIFF(t.date_completed, t.date_created) ) AS avg_completion_time\n",
    "FROM tickets t \n",
    "WHERE t.date_completed IS NOT NULL;\n",
    "```\n",
    "\n",
    "The python code to run and display the query."
   ]
  },
  {
   "cell_type": "code",
   "execution_count": null,
   "metadata": {},
   "outputs": [],
   "source": [
    "db = mysql.connector.connect(\n",
    "  host=host,\n",
    "  user=\"root\",\n",
    "  passwd=\"superadmin123\",\n",
    "  database=\"bug_tracker_aggregate\"\n",
    ")\n",
    "\n",
    "cursor = db.cursor(dictionary=True)\n",
    "\n",
    "# query to answer the question\n",
    "query = '''\n",
    "SELECT\n",
    "    AVG( DATEDIFF(t.date_completed, t.date_created) ) AS avg_completion_time\n",
    "FROM tickets t \n",
    "WHERE t.date_completed IS NOT NULL\n",
    "'''\n",
    "\n",
    "cursor.execute(query)\n",
    "\n",
    "print(*cursor.fetchall(), sep='\\n')\n",
    "cursor.close()\n",
    "db.close()"
   ]
  },
  {
   "cell_type": "markdown",
   "metadata": {},
   "source": [
    "### Exercise\n",
    "\n",
    "Notice how the result has four decimal places?\n",
    "Use python to format the result to two decimal places.\n",
    "How could you achieve the same result using MySQL?"
   ]
  },
  {
   "cell_type": "markdown",
   "metadata": {},
   "source": [
    "## Question 5: _How many tickets were completed in less than 10 days?_"
   ]
  },
  {
   "cell_type": "markdown",
   "metadata": {},
   "source": [
    "First we need to create a query that displays the `ticket.id` and time it took to complete.\n",
    "We'll build off the previous questions to construct this.\n",
    "\n",
    "```sql\n",
    "SELECT t.id, DATEDIFF(t.date_completed, t.date_created) AS completed FROM tickets t WHERE t.date_completed IS NOT NULL\n",
    "```\n",
    "\n",
    "![id and days completed](./assets/lab9/ten_days_1.png)\n",
    "\n",
    "Next, we'll need to limit the results to only `tickets.id` that took less than 10 days to complete.\n",
    "This is different than the `LIMIT` clause used earlier.\n",
    "For this we'll be using the [`HAVING` statement](https://en.wikipedia.org/wiki/Having_(SQL)).\n",
    "This is similar to the `WHERE` clause, but the key difference is that it relates to the `SELECT` results, instead of the data within the table.\n",
    "\n",
    "```sql\n",
    "SELECT t.id, DATEDIFF(t.date_completed, t.date_created) AS completed FROM tickets t WHERE t.date_completed IS NOT NULL\n",
    "HAVING completed <= 10\n",
    "```\n",
    "\n",
    "![id and days completed](./assets/lab9/ten_days_2.png)\n",
    "\n",
    "This is looking much better.\n",
    "We have the data we want, but we need a way to count it.\n",
    "Unfortunately, we cannot just wrap the whole `SELECT` statement in a `COUNT` function.\n",
    "Although, we can get pretty close to that.\n",
    "\n",
    "We'll be using a [subquery](https://en.wikipedia.org/wiki/SQL_syntax#Subqueries) to build an anonymous _table_ of the data we want and then use that data to query from.\n",
    "This is done by wrapping the query above in parentheses in the `FROM` clause:\n",
    "\n",
    "```sql\n",
    "SELECT * FROM (\n",
    "    SELECT t.id, DATEDIFF(t.date_completed, t.date_created) AS completed\n",
    "    FROM tickets t\n",
    "    WHERE t.date_completed IS NOT NULL\n",
    "    HAVING completed <= 10\n",
    ") AS quickly_completed_tickets;\n",
    "```\n",
    "\n",
    "![id and days completed in subquery](./assets/lab9/ten_days_3.png)\n",
    "\n",
    "Notice how the data returned is _exactly the same_ as the previous data set.\n",
    "Now we can use the `COUNT` function to get our final result, the number of tickets that were completed within 10 days.\n",
    "\n",
    "```sql\n",
    "SELECT COUNT(*) ticket_count \n",
    "FROM (\n",
    "    SELECT\n",
    "        t.id,\n",
    "        DATEDIFF(t.date_completed, t.date_created) AS completed\n",
    "    FROM tickets t \n",
    "    WHERE t.date_completed IS NOT NULL \n",
    "    HAVING completed <= 10\n",
    ") AS quickly_completed_tickets\n",
    "```\n",
    "\n",
    "![the final result](./assets/lab9/ten_days_4.png)\n",
    "\n",
    "And finally, the python code to run the query!"
   ]
  },
  {
   "cell_type": "code",
   "execution_count": null,
   "metadata": {},
   "outputs": [],
   "source": [
    "db = mysql.connector.connect(\n",
    "  host=host,\n",
    "  user=\"root\",\n",
    "  passwd=\"superadmin123\",\n",
    "  database=\"bug_tracker_aggregate\"\n",
    ")\n",
    "\n",
    "cursor = db.cursor(dictionary=True)\n",
    "\n",
    "# query to answer the question\n",
    "query = '''\n",
    "SELECT COUNT(*) ticket_count \n",
    "FROM (\n",
    "    SELECT\n",
    "        t.id,\n",
    "        DATEDIFF(t.date_completed, t.date_created) AS completed\n",
    "    FROM tickets t \n",
    "    WHERE t.date_completed IS NOT NULL \n",
    "    HAVING completed <= 10\n",
    ") AS quickly_completed_tickets\n",
    "'''\n",
    "\n",
    "cursor.execute(query)\n",
    "\n",
    "print(*cursor.fetchall(), sep='\\n')\n",
    "cursor.close()\n",
    "db.close() "
   ]
  },
  {
   "cell_type": "markdown",
   "metadata": {},
   "source": [
    "### Exercise\n",
    "\n",
    "Find tickets that took _more than 80 days_ to complete.\n",
    "How can you find tickets that were updated before July 10th, 2020 but not more than one month before?"
   ]
  },
  {
   "cell_type": "markdown",
   "metadata": {},
   "source": [
    "---"
   ]
  },
  {
   "cell_type": "markdown",
   "metadata": {},
   "source": [
    "**BONUS**: Ask a question about the data, and then answer it using Python and SQL."
   ]
  },
  {
   "cell_type": "markdown",
   "metadata": {},
   "source": [
    "## Solutions to exercises"
   ]
  },
  {
   "cell_type": "markdown",
   "metadata": {},
   "source": [
    "### How many tickets are open/closed: Using a Single Query"
   ]
  },
  {
   "cell_type": "code",
   "execution_count": null,
   "metadata": {},
   "outputs": [],
   "source": [
    "db = mysql.connector.connect(\n",
    "  host=host,\n",
    "  user=\"root\",\n",
    "  passwd=\"superadmin123\",\n",
    "  database=\"bug_tracker_aggregate\"\n",
    ")\n",
    "\n",
    "cursor = db.cursor(dictionary=True)\n",
    "\n",
    "cursor.execute(\"SELECT SUM(CASE WHEN t.date_completed IS NULL THEN 1 ELSE 0 END) AS 'tickets_open', SUM(CASE WHEN t.date_completed IS NULL THEN 0 ELSE 1 END) AS 'tickets_closed' FROM tickets t\")\n",
    "\n",
    "result = cursor.fetchone()\n",
    "\n",
    "# get number of tickets open\n",
    "tickets_open = result['tickets_open']\n",
    "\n",
    "# get number of tickets closed\n",
    "tickets_closed = result['tickets_closed']\n",
    "\n",
    "print('Tickets Open: {}\\nTickets Closed: {}'.format(tickets_open, tickets_closed))\n",
    "\n",
    "cursor.close()\n",
    "db.close()\n"
   ]
  },
  {
   "cell_type": "markdown",
   "metadata": {},
   "source": [
    "### Update the SQL query to determine who has the most closed tickets and who has the most open tickets"
   ]
  },
  {
   "cell_type": "code",
   "execution_count": null,
   "metadata": {},
   "outputs": [],
   "source": [
    "db = mysql.connector.connect(\n",
    "  host=host,\n",
    "  user=\"root\",\n",
    "  passwd=\"superadmin123\",\n",
    "  database=\"bug_tracker_aggregate\"\n",
    ")\n",
    "\n",
    "cursor = db.cursor(dictionary=True)\n",
    "\n",
    "query = '''\n",
    "SELECT\n",
    "    CONCAT(u.first_name, ' ', u.last_name) AS name,\n",
    "    u.email, \n",
    "    SUM(CASE WHEN t.date_completed IS NOT NULL THEN 1 ELSE 0 END) AS closed_tickets\n",
    "FROM tickets t\n",
    "INNER JOIN users u ON u.id=t.assignee \n",
    "GROUP BY t.assignee \n",
    "ORDER BY closed_tickets DESC\n",
    "LIMIT 1;\n",
    "'''\n",
    "\n",
    "# execute the query\n",
    "cursor.execute(query)\n",
    "\n",
    "print(*cursor.fetchall(), sep='\\n')\n",
    "cursor.close()\n",
    "db.close()"
   ]
  },
  {
   "cell_type": "markdown",
   "metadata": {},
   "source": [
    "### How could you format the result to two decimal places using MySQL?"
   ]
  },
  {
   "cell_type": "code",
   "execution_count": null,
   "metadata": {},
   "outputs": [],
   "source": [
    "db = mysql.connector.connect(\n",
    "  host=host,\n",
    "  user=\"root\",\n",
    "  passwd=\"superadmin123\",\n",
    "  database=\"bug_tracker_aggregate\"\n",
    ")\n",
    "\n",
    "cursor = db.cursor(dictionary=True)\n",
    "\n",
    "# query to answer the question\n",
    "query = '''\n",
    "SELECT\n",
    "    TRUNCATE( AVG( DATEDIFF(t.date_completed, t.date_created) ), 2) AS avg_completion_time\n",
    "FROM tickets t \n",
    "WHERE t.date_completed IS NOT NULL\n",
    "'''\n",
    "\n",
    "cursor.execute(query)\n",
    "\n",
    "print(*cursor.fetchall(), sep='\\n')\n",
    "cursor.close()\n",
    "db.close()"
   ]
  },
  {
   "cell_type": "markdown",
   "metadata": {},
   "source": [
    "### Find tickets that took more than 80 days to complete"
   ]
  },
  {
   "cell_type": "code",
   "execution_count": null,
   "metadata": {},
   "outputs": [],
   "source": [
    "db = mysql.connector.connect(\n",
    "  host=host,\n",
    "  user=\"root\",\n",
    "  passwd=\"superadmin123\",\n",
    "  database=\"bug_tracker_aggregate\"\n",
    ")\n",
    "\n",
    "cursor = db.cursor(dictionary=True)\n",
    "\n",
    "# query to answer the question\n",
    "query = '''\n",
    "SELECT COUNT(*) ticket_count \n",
    "FROM (\n",
    "    SELECT\n",
    "        t.id,\n",
    "        DATEDIFF(t.date_completed, t.date_created) AS completed\n",
    "    FROM tickets t \n",
    "    WHERE t.date_completed IS NOT NULL \n",
    "    HAVING completed > 80\n",
    ") AS quickly_completed_tickets\n",
    "'''\n",
    "\n",
    "cursor.execute(query)\n",
    "\n",
    "print(*cursor.fetchall(), sep='\\n')\n",
    "cursor.close()\n",
    "db.close()\n"
   ]
  },
  {
   "cell_type": "markdown",
   "metadata": {},
   "source": [
    "### How to find tickets that were updated before July 10th, 2020 but not more than one month before"
   ]
  },
  {
   "cell_type": "code",
   "execution_count": null,
   "metadata": {},
   "outputs": [],
   "source": [
    "db = mysql.connector.connect(\n",
    "  host=host,\n",
    "  user=\"root\",\n",
    "  passwd=\"superadmin123\",\n",
    "  database=\"bug_tracker_aggregate\"\n",
    ")\n",
    "\n",
    "cursor = db.cursor(dictionary=True)\n",
    "\n",
    "# query to answer the question\n",
    "query = '''\n",
    "    SELECT *\n",
    "    FROM tickets\n",
    "    WHERE date_updated > '2020-06-10' AND date_updated < '2020-07-10'\n",
    "'''\n",
    "\n",
    "cursor.execute(query)\n",
    "\n",
    "print(*cursor.fetchall(), sep='\\n')\n",
    "cursor.close()\n",
    "db.close()\n"
   ]
  }
 ],
 "metadata": {
  "environment": {
   "name": "common-cpu.m50",
   "type": "gcloud",
   "uri": "gcr.io/deeplearning-platform-release/base-cpu:m50"
  },
  "kernelspec": {
   "display_name": "Python 3",
   "language": "python",
   "name": "python3"
  },
  "language_info": {
   "codemirror_mode": {
    "name": "ipython",
    "version": 3
   },
   "file_extension": ".py",
   "mimetype": "text/x-python",
   "name": "python",
   "nbconvert_exporter": "python",
   "pygments_lexer": "ipython3",
   "version": "3.7.6"
  }
 },
 "nbformat": 4,
 "nbformat_minor": 4
}
